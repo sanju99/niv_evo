{
 "cells": [
  {
   "cell_type": "code",
   "execution_count": 1,
   "id": "cfb3eec1-627c-43d9-81b5-74f639c62620",
   "metadata": {},
   "outputs": [],
   "source": [
    "import numpy as np\n",
    "import pandas as pd\n",
    "from Bio import Seq, SeqIO, AlignIO, pairwise2, Entrez\n",
    "from Bio.pairwise2 import format_alignment\n",
    "import re"
   ]
  },
  {
   "cell_type": "code",
   "execution_count": 2,
   "id": "2c7772d5-0a48-4096-bdb4-82c1b962d972",
   "metadata": {},
   "outputs": [],
   "source": [
    "# aln = AlignIO.read(\"seq_for_analysis/W_aa_aln.fasta\", \"fasta\")\n",
    "# AlignIO.write(aln, \"seq_for_analysis/W_aa_aln.phy\", \"phylip\")"
   ]
  },
  {
   "cell_type": "markdown",
   "id": "6f62943c-0971-42a4-a90c-79db16d40079",
   "metadata": {},
   "source": [
    "# Aligned all V and W sequences using Clustal Omega and dropped sequences containing ambiguous AAs\n",
    "# Look for AA differences between clades"
   ]
  },
  {
   "cell_type": "code",
   "execution_count": 161,
   "id": "a49204c6-4070-4495-99ca-c9ba4ced00a3",
   "metadata": {},
   "outputs": [
    {
     "name": "stdout",
     "output_type": "stream",
     "text": [
      "(29, 2) (28, 2)\n",
      "(29, 2) (28, 2)\n"
     ]
    }
   ],
   "source": [
    "W_aa = pd.DataFrame([(seq.id.split(\".\")[0], str(seq.seq)) for seq in SeqIO.parse(\"seq_for_analysis/W_aln.fasta\", \"fasta\")]).rename(columns={0:\"Isolate\", 1:\"Seq\"})\n",
    "V_aa = pd.DataFrame([(seq.id.split(\".\")[0], str(seq.seq)) for seq in SeqIO.parse(\"seq_for_analysis/V_aln.fasta\", \"fasta\")]).rename(columns={0:\"Isolate\", 1:\"Seq\"})\n",
    "print(W_aa.shape, V_aa.shape)\n",
    "\n",
    "# drop all sequences with gap characters in W because these are due to incomplete sequencing, not true gaps\n",
    "#W_aa = W_aa.loc[~W_aa[\"Seq\"].str.contains(\"-\")]\n",
    "#V_aa = V_aa.loc[~V_aa[\"Seq\"].str.contains(\"-\")]\n",
    "print(W_aa.shape, V_aa.shape)"
   ]
  },
  {
   "cell_type": "code",
   "execution_count": 150,
   "id": "ab9851d5-56e9-4a62-89db-9d79349c1629",
   "metadata": {},
   "outputs": [],
   "source": [
    "def find_unique_sites(aa_df):\n",
    "    \n",
    "    aa_df = pd.concat([aa_df[\"Isolate\"], aa_df[\"Seq\"].str.split(\"\", expand=True).iloc[:, 1:-1]], axis=1)\n",
    "    aa_df[[\"Isolate\", \"Country\"]] = aa_df[\"Isolate\"].str.split(\"/\", expand=True)\n",
    "    aa_df = aa_df.set_index(\"Isolate\")\n",
    "    aa_df[\"Clade\"] = [\"M\" if row[\"Country\"] == \"Malaysia\" else \"B\" for _, row in aa_df.iterrows()]\n",
    "    \n",
    "    for col in aa_df.columns:\n",
    "        if col != \"Clade\":\n",
    "            \n",
    "            if \"-\" in aa_df[col].values:\n",
    "                del aa_df[col]\n",
    "            else:\n",
    "                if len(aa_df[col].unique()) == 1:\n",
    "                    del aa_df[col]\n",
    "                else:\n",
    "                    single_df = pd.DataFrame(aa_df.groupby(\"Clade\")[col].value_counts()).rename(columns={col:\"Count\"}).reset_index()\n",
    "                    if len(set(single_df.query(\"Clade == 'B'\")[col].values).intersection(single_df.query(\"Clade == 'M'\")[col].values)) != 0:\n",
    "                        del aa_df[col]\n",
    "\n",
    "    print(aa_df.shape)\n",
    "    return aa_df"
   ]
  },
  {
   "cell_type": "code",
   "execution_count": 172,
   "id": "a7404a80-1727-4a44-a4cb-7f237b042b21",
   "metadata": {},
   "outputs": [
    {
     "name": "stdout",
     "output_type": "stream",
     "text": [
      "(29, 45)\n",
      "(28, 48)\n"
     ]
    }
   ],
   "source": [
    "W_aa_sites = find_unique_sites(W_aa)\n",
    "V_aa_sites = find_unique_sites(V_aa)"
   ]
  },
  {
   "cell_type": "code",
   "execution_count": 62,
   "id": "64c15fd6-0760-47eb-acd5-1b10bdcc4a17",
   "metadata": {},
   "outputs": [],
   "source": [
    "# alignments = pairwise2.align.globalxx(V_aa.Seq.values[0], W_aa.Seq.values[0])\n",
    "# print(format_alignment(*alignments[0]))"
   ]
  },
  {
   "cell_type": "code",
   "execution_count": 63,
   "id": "27d6559d-ea7c-47d0-a8c4-87415c9d77ce",
   "metadata": {},
   "outputs": [],
   "source": [
    "def get_ncbi_accessions(id_list, database):\n",
    "    \n",
    "    Entrez.email='skulkarni@g.harvard.edu'\n",
    "\n",
    "    # search Genbank, returns accession numbers\n",
    "    handle=Entrez.esearch(db=database, retmax=1000, term=\",\".join(id_list), idtype=\"acc\") \n",
    "    record = Entrez.read(handle)\n",
    "    \n",
    "    handle.close()\n",
    "    fetch = Entrez.efetch(db=database, id=\",\".join(record['IdList']), rettype='gb', retmode='text')\n",
    "    gb=fetch.read()\n",
    "    \n",
    "    # the first one is an empty string because it's what comes before the first locus\n",
    "    found_seq = list(gb.split(\"LOCUS\"))[1:]\n",
    "    print(f\"Found {len(found_seq)} out of {len(id_list)} NCBI accessions!\")\n",
    "    \n",
    "    # remove the sequences becuase they make the strings unnecessarily long\n",
    "    found_seq = [isolate.split(\"/gene\")[0] for isolate in found_seq]\n",
    "    \n",
    "    return found_seq"
   ]
  },
  {
   "cell_type": "code",
   "execution_count": 77,
   "id": "7a82e1c7-e024-4929-be0d-73ebb082c06d",
   "metadata": {},
   "outputs": [],
   "source": [
    "countries_dict = dict(zip(['India', 'Kerala', 'Malaysia', 'Perak', 'Bangladesh', 'Singapore', 'Thailand', 'Cambodia', 'Kuala Lumpur'], \n",
    "                          ['India', 'India', 'Malaysia', 'Malaysia', 'Bangladesh', 'Singapore', 'Thailand', 'Cambodia', 'Malaysia']))\n",
    "\n",
    "def extract_metadata(metadata_df):\n",
    "        \n",
    "    ncbi_info = get_ncbi_accessions(metadata_df[\"Isolate\"].values, \"protein\")\n",
    "        \n",
    "    for i, row in metadata_df.iterrows():\n",
    "\n",
    "        # clean so that every word is separated by a single whitespace, make lowercase, then split to get a list\n",
    "        cleaned_info = re.sub('\\s+',' ', ncbi_info[i]).lower().split(\" \")\n",
    "\n",
    "        # get the country by iterating through the list of countries\n",
    "        for country in list(countries_dict.keys()):\n",
    "            if country in ncbi_info[i]:\n",
    "                metadata_df.loc[i, \"Country\"] = countries_dict[country]\n",
    "                break\n",
    "                    \n",
    "    metadata_df.loc[metadata_df[\"Isolate\"] == \"YP_007188592\", \"Country\"] = \"Malaysia\"\n",
    "    metadata_df.loc[metadata_df[\"Isolate\"] == \"NP_112023\", \"Country\"] = \"Malaysia\"\n",
    "    \n",
    "    metadata_df.loc[metadata_df[\"Isolate\"] == \"AEQ38076\", \"Country\"] = \"HeV\"\n",
    "    metadata_df.loc[metadata_df[\"Isolate\"] == \"AEQ38030\", \"Country\"] = \"HeV\"\n",
    "    \n",
    "    # check that there are no more NaNs in the columns we just imputed\n",
    "    #assert sum(pd.isnull(metadata_df['Country'])) == 0\n",
    "    \n",
    "    return metadata_df"
   ]
  },
  {
   "cell_type": "code",
   "execution_count": 78,
   "id": "d7dd6ab6-9d07-4672-a48e-f5b883ed18d7",
   "metadata": {},
   "outputs": [
    {
     "name": "stdout",
     "output_type": "stream",
     "text": [
      "Found 31 out of 31 NCBI accessions!\n",
      "Found 30 out of 30 NCBI accessions!\n"
     ]
    }
   ],
   "source": [
    "W_with_metadata = extract_metadata(W_aa)\n",
    "V_with_metadata = extract_metadata(V_aa)"
   ]
  },
  {
   "cell_type": "code",
   "execution_count": 83,
   "id": "eaf53608-0292-4a3a-af0c-7efa25e87645",
   "metadata": {},
   "outputs": [
    {
     "data": {
      "text/plain": [
       "Bangladesh    18\n",
       "India          8\n",
       "Malaysia       2\n",
       "Thailand       1\n",
       "HeV            1\n",
       "Name: Country, dtype: int64"
      ]
     },
     "execution_count": 83,
     "metadata": {},
     "output_type": "execute_result"
    }
   ],
   "source": [
    "V_with_metadata.Country.value_counts()"
   ]
  },
  {
   "cell_type": "code",
   "execution_count": 84,
   "id": "dab103dc-d089-4585-a4d3-c906fd3556b5",
   "metadata": {},
   "outputs": [
    {
     "data": {
      "text/plain": [
       "Bangladesh    20\n",
       "India          7\n",
       "Malaysia       2\n",
       "Thailand       1\n",
       "HeV            1\n",
       "Name: Country, dtype: int64"
      ]
     },
     "execution_count": 84,
     "metadata": {},
     "output_type": "execute_result"
    }
   ],
   "source": [
    "W_with_metadata.Country.value_counts()"
   ]
  },
  {
   "cell_type": "code",
   "execution_count": 88,
   "id": "97fec941-7a83-462e-b239-31b7fe54d25e",
   "metadata": {},
   "outputs": [],
   "source": [
    "V_with_metadata.loc[~V_with_metadata[\"Seq\"].str.contains(\"|\".join([\"X\", \"B\", \"Z\", \"J\"]))]\n",
    "W_with_metadata.loc[~W_with_metadata[\"Seq\"].str.contains(\"|\".join([\"X\", \"B\", \"Z\", \"J\"]))]\n",
    "\n",
    "with open(\"sequences/genes/W_aa.fasta\", \"w+\") as file:\n",
    "    for _, row in W_with_metadata.iterrows():\n",
    "        file.write(\">\" + row[\"Isolate\"] + \"/\" + row[\"Country\"] + \"\\n\")\n",
    "        file.write(row[\"Seq\"] + \"\\n\")\n",
    "        \n",
    "with open(\"sequences/genes/V_aa.fasta\", \"w+\") as file:\n",
    "    for _, row in V_with_metadata.iterrows():\n",
    "        file.write(\">\" + row[\"Isolate\"] + \"/\" + row[\"Country\"] + \"\\n\")\n",
    "        file.write(row[\"Seq\"] + \"\\n\")"
   ]
  },
  {
   "cell_type": "code",
   "execution_count": 2,
   "id": "e749ff1d-8fec-48f5-9ebc-ef429394af4c",
   "metadata": {},
   "outputs": [
    {
     "name": "stdout",
     "output_type": "stream",
     "text": [
      "[2130]\n"
     ]
    }
   ],
   "source": [
    "P_unique_HeV = [(seq.id, str(seq.seq)) for seq in SeqIO.parse(\"seq_for_analysis/P_unique_HeV.fasta\", \"fasta\")]\n",
    "P_df = pd.DataFrame(P_unique_HeV)\n",
    "P_df.columns = [\"ID\", \"Seq\"]\n",
    "\n",
    "# remove HeV\n",
    "P_df = P_df.query(\"ID != 'JN255817'\").reset_index(drop=True)\n",
    "\n",
    "lengths = [len(seq) for seq in P_df.Seq.values]\n",
    "print(np.unique(lengths))\n",
    "\n",
    "metadata = pd.read_csv(\"metadata.csv\")\n",
    "P_df = P_df.merge(metadata, on=\"ID\", how=\"inner\")\n",
    "\n",
    "P_df[\"AA\"] = [Seq.translate(seq) for seq in P_df.Seq.values]"
   ]
  },
  {
   "cell_type": "code",
   "execution_count": 10,
   "id": "dcc6023a-6b37-4736-8bbd-61fdb91ae0a9",
   "metadata": {},
   "outputs": [
    {
     "name": "stdout",
     "output_type": "stream",
     "text": [
      "128 amino acids have variation\n",
      "44 amino acids discriminate clades\n"
     ]
    }
   ],
   "source": [
    "P_df_AA = P_df[\"AA\"].str.split(\"\", expand=True)\n",
    "P_df_AA = P_df_AA.iloc[:, 1:-1]\n",
    "P_df_AA = P_df_AA.set_index(P_df.ID.values)\n",
    "\n",
    "P_df_AA = P_df_AA.merge(P_df[[\"ID\", \"Clade_grouped\"]], left_index=True, right_on=\"ID\")\n",
    "\n",
    "# get all AA differences\n",
    "for col in P_df_AA.columns:\n",
    "    if len(P_df_AA[col].unique()) == 1:\n",
    "        del P_df_AA[col]\n",
    "        \n",
    "print(f\"{P_df_AA.shape[1]-2} amino acids have variation\")\n",
    "\n",
    "# next, get all AA sites that perfectly discriminate between clades\n",
    "for col in P_df_AA.columns:\n",
    "    if col not in [\"ID\", \"Clade_grouped\"]:\n",
    "        single_df = pd.DataFrame(P_df_AA.groupby(\"Clade_grouped\")[col].value_counts()).rename(columns={col: \"count\"}).reset_index()\n",
    "\n",
    "        for aa in single_df[col].unique():\n",
    "               if len(single_df.loc[single_df[col] == aa].Clade_grouped.unique()) > 1:\n",
    "                    del P_df_AA[col]\n",
    "                    break\n",
    "        \n",
    "print(f\"{P_df_AA.shape[1]-2} amino acids discriminate clades\")"
   ]
  },
  {
   "cell_type": "code",
   "execution_count": null,
   "id": "5f6667a4-a185-4b59-a542-e430ca6397fc",
   "metadata": {},
   "outputs": [],
   "source": []
  }
 ],
 "metadata": {
  "kernelspec": {
   "display_name": "Python 3 (ipykernel)",
   "language": "python",
   "name": "python3"
  },
  "language_info": {
   "codemirror_mode": {
    "name": "ipython",
    "version": 3
   },
   "file_extension": ".py",
   "mimetype": "text/x-python",
   "name": "python",
   "nbconvert_exporter": "python",
   "pygments_lexer": "ipython3",
   "version": "3.9.12"
  }
 },
 "nbformat": 4,
 "nbformat_minor": 5
}
