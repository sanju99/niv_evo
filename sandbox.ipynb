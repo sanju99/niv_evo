{
 "cells": [
  {
   "cell_type": "code",
   "execution_count": 11,
   "id": "1c73ebe8-cc31-49ff-a082-924f8cbbf11f",
   "metadata": {},
   "outputs": [],
   "source": [
    "import numpy as np\n",
    "import pandas as pd\n",
    "\n",
    "import Bio\n",
    "from Bio import SeqIO\n",
    "from Bio.SeqRecord import SeqRecord\n",
    "from Bio.Seq import Seq\n",
    "import os"
   ]
  },
  {
   "cell_type": "code",
   "execution_count": 12,
   "id": "2c9479d1-ead5-48b5-bedb-aedb67d94d3f",
   "metadata": {},
   "outputs": [
    {
     "name": "stdout",
     "output_type": "stream",
     "text": [
      "Malaysian strain genome size: 18246\n"
     ]
    }
   ],
   "source": [
    "for seq_record in SeqIO.parse(\"sequences/genomes/AY029768.1_MYS.fasta\", \"fasta\"):\n",
    "    \n",
    "    # just wanted to do a sanity check\n",
    "    print(f\"Malaysian strain genome size: {len(seq_record)}\")"
   ]
  },
  {
   "cell_type": "code",
   "execution_count": 13,
   "id": "ae679963-189d-47a6-87e8-40324dbfe8a8",
   "metadata": {},
   "outputs": [
    {
     "name": "stdout",
     "output_type": "stream",
     "text": [
      "Bangaldeshi strain genome size: 18252\n"
     ]
    }
   ],
   "source": [
    "for seq_record in SeqIO.parse(\"sequences/genomes/AY988601.1_BGD.fasta\", \"fasta\"):\n",
    "    \n",
    "    # just wanted to do a sanity check\n",
    "    print(f\"Bangaldeshi strain genome size: {len(seq_record)}\")"
   ]
  },
  {
   "cell_type": "markdown",
   "id": "6e512949-7a4f-447a-b446-cb7e3c1964f2",
   "metadata": {},
   "source": [
    "```bash\n",
    "bowtie2-build sequences/genomes/AY029768_1.MYS_CDS.fna MYS_cds\n",
    "\n",
    "bowtie2-build sequences/genomes/AY988601_1.BGD_CDS.fna BGD_cds\n",
    "```"
   ]
  },
  {
   "cell_type": "code",
   "execution_count": null,
   "id": "8000ff6b-705c-495d-88e3-93d5e59eba33",
   "metadata": {},
   "outputs": [],
   "source": []
  },
  {
   "cell_type": "markdown",
   "id": "e9af097e-3f2d-4140-ae03-9bba281687a6",
   "metadata": {},
   "source": [
    "# BLAST the glycoprotein sequence\n",
    "\n",
    "83 aligned sequences stored at `glyco_aln.fasta`\n",
    "\n",
    "Descriptions stored at `glyco_blast_descriptions.csv`. Need this to get the isolate locations and other metadata.\n",
    "\n",
    "Full sequences stored at `glyco_blast_83.fasta`\n",
    "\n",
    "\n",
    "# BLAST the phosphoprotein sequence\n",
    "\n",
    "83 aligned sequences stored at `phospho_aln.fasta`\n",
    "\n",
    "Descriptions stored at `phospho_blast_descriptions.csv`. Need this to get the isolate locations and other metadata.\n",
    "\n",
    "Full sequences stored at `phospho_blast_80.fasta`"
   ]
  },
  {
   "cell_type": "markdown",
   "id": "81c53b1a-c71a-46a6-9fb6-e6dc100260d5",
   "metadata": {},
   "source": [
    "# Check lengths of sequences in the alignment files"
   ]
  },
  {
   "cell_type": "code",
   "execution_count": 86,
   "id": "a9d7a165-3528-4d60-b6ab-db683bbe3f16",
   "metadata": {},
   "outputs": [],
   "source": [
    "def read_fasta(fName):\n",
    "    \n",
    "    lengths = []\n",
    "    names = []\n",
    "    seqs = []\n",
    "\n",
    "    for seq_record in SeqIO.parse(fName, \"fasta\"):\n",
    "\n",
    "        if \"_\" in seq_record.id:\n",
    "            names.append(seq_record.id.split(\"_\")[0])\n",
    "        else:\n",
    "            names.append(seq_record.id)\n",
    "        seqs.append(seq_record.seq)\n",
    "        lengths.append(len(seq_record))\n",
    "\n",
    "    print(f\"Found {len(seqs)} sequences in {os.path.basename(fName)}\")\n",
    "    \n",
    "    res_dict = dict(zip(np.array(names), seqs))\n",
    "    \n",
    "    return dict(sorted(res_dict.items(), key=lambda x: x[0])), np.array(lengths)"
   ]
  },
  {
   "cell_type": "code",
   "execution_count": 105,
   "id": "c7dfb53b-b0fd-4fe6-8c72-52d23b7b3c15",
   "metadata": {},
   "outputs": [
    {
     "name": "stdout",
     "output_type": "stream",
     "text": [
      "Found 81 sequences in G_seqs.fasta\n",
      "Found 79 sequences in P_seqs.fasta\n"
     ]
    }
   ],
   "source": [
    "G = read_fasta(\"sequences/Fasta/G_seqs.fasta\")\n",
    "P = read_fasta(\"sequences/Fasta/P_seqs.fasta\")"
   ]
  },
  {
   "cell_type": "code",
   "execution_count": null,
   "id": "45cb99ae-a3cd-48f8-aeec-8b83a2272164",
   "metadata": {},
   "outputs": [],
   "source": []
  }
 ],
 "metadata": {
  "kernelspec": {
   "display_name": "Python 3 (ipykernel)",
   "language": "python",
   "name": "python3"
  },
  "language_info": {
   "codemirror_mode": {
    "name": "ipython",
    "version": 3
   },
   "file_extension": ".py",
   "mimetype": "text/x-python",
   "name": "python",
   "nbconvert_exporter": "python",
   "pygments_lexer": "ipython3",
   "version": "3.8.12"
  }
 },
 "nbformat": 4,
 "nbformat_minor": 5
}
