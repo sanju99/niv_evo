{
 "cells": [
  {
   "cell_type": "code",
   "execution_count": 1,
   "id": "6c6619a2-74d6-4e0a-a89e-f79efb4560e5",
   "metadata": {},
   "outputs": [],
   "source": [
    "import numpy as np\n",
    "import pandas as pd\n",
    "from Bio import AlignIO"
   ]
  },
  {
   "cell_type": "markdown",
   "id": "50d58d3e-df5a-4154-b3f0-1272738df322",
   "metadata": {},
   "source": [
    "# PAML Requirements\n",
    "\n",
    "1. Sequences in Phylip format (*.phy)\n",
    "2. Tree file (*.nwk = Newick format)\n",
    "3. Control file (*.ctl)\n",
    "\n",
    "```bash\n",
    "conda install -c bioconda paml\n",
    "```\n",
    "\n",
    "Copied all `.ctl` files from the tar file for Linux/Mac <a href=\"http://abacus.gene.ucl.ac.uk/software/#downloads-and-installation-2\" target=\"_blank\">here</a>."
   ]
  },
  {
   "cell_type": "code",
   "execution_count": 16,
   "id": "29622171-03c7-4427-87d0-e247d4e963e9",
   "metadata": {},
   "outputs": [
    {
     "data": {
      "text/plain": [
       "1"
      ]
     },
     "execution_count": 16,
     "metadata": {},
     "output_type": "execute_result"
    }
   ],
   "source": [
    "# don't think this is needed\n",
    "\n",
    "# # convert file to Phylip format for PAML\n",
    "# alignments = AlignIO.parse('sequences/PG/G_deduplicated.fasta', \"fasta\")\n",
    "# AlignIO.write(alignments, 'paml/glycoprotein/G.phy', 'phylip-relaxed')"
   ]
  },
  {
   "cell_type": "code",
   "execution_count": 7,
   "id": "9d19e156-43b3-4c40-9c66-1dd7fac9021b",
   "metadata": {},
   "outputs": [
    {
     "data": {
      "text/plain": [
       "1"
      ]
     },
     "execution_count": 7,
     "metadata": {},
     "output_type": "execute_result"
    }
   ],
   "source": [
    "# don't think this is needed\n",
    "\n",
    "# # convert file to Phylip format for PAML\n",
    "# alignments = AlignIO.parse('sequences/PG/P_deduplicated.fasta', \"fasta\")\n",
    "# AlignIO.write(alignments, 'paml/phosphoprotein/P.phy', 'phylip-relaxed')"
   ]
  },
  {
   "cell_type": "code",
   "execution_count": 11,
   "id": "ba350e2a-cb98-4c09-8b52-1130b8da4e06",
   "metadata": {},
   "outputs": [
    {
     "name": "stdout",
     "output_type": "stream",
     "text": [
      "<generator object parse at 0x7fbd42177b30>\n"
     ]
    }
   ],
   "source": [
    "alignments = AlignIO.parse(open(\"paml/glycoprotein/G.fasta\"), \"fasta\") \n",
    "print(alignments) "
   ]
  },
  {
   "cell_type": "code",
   "execution_count": 15,
   "id": "8a0183a4-d3ee-4201-98ac-5243197f647d",
   "metadata": {},
   "outputs": [
    {
     "data": {
      "text/plain": [
       "0"
      ]
     },
     "execution_count": 15,
     "metadata": {},
     "output_type": "execute_result"
    }
   ],
   "source": [
    "AlignIO.write(alignments, \"paml/glycoprotein/G_stockholm.sth\", \"stockholm\")"
   ]
  },
  {
   "cell_type": "code",
   "execution_count": 14,
   "id": "18227e46-0fc0-4842-a56f-2f8c2f48c0e0",
   "metadata": {},
   "outputs": [
    {
     "data": {
      "text/plain": [
       "<generator object parse at 0x7fbd42177b30>"
      ]
     },
     "execution_count": 14,
     "metadata": {},
     "output_type": "execute_result"
    }
   ],
   "source": [
    "alignments"
   ]
  },
  {
   "cell_type": "code",
   "execution_count": 12,
   "id": "8ce72ae2-921d-4947-8c3b-861285c9f24c",
   "metadata": {},
   "outputs": [
    {
     "name": "stdout",
     "output_type": "stream",
     "text": [
      "Alignment with 50 rows and 1809 columns\n",
      "ATGCCGGCAGAAAACAAGAAAGTTAGATTCGAAAATACTACTTC...TAA AF212302\n",
      "ATGCCGGCAGAAAACAAGAAAGTTAGATTCGAAAATACTACTTC...TAA AF376747\n",
      "ATGCCGGCAGAAAACAAGAAAGTTAGATTCGAAAATACTACTTC...TAA AJ564621\n",
      "ATGCCGGCAGAAAACAAGAAAGTTAGATTCGAAAATACTACTTC...TAA AJ627196\n",
      "ATGCCGGCAGAAAGCAAGAAAGTTAGATTCGAAAATACTACTTC...TAA AY858111\n",
      "ATGCCGACAGAAAGCAAGAAAGTTAGATTCGAAAATACTGCTTC...TAA AY988601\n",
      "ATGCCGACAGAAAGCAAGAAAGTTAGATTCGAAAATACTGCTTC...TAA FJ513078\n",
      "ATGCCGGCAGAAAACAAGAAAGTTAGATTCGAAAATACTACTTC...TAA FN869553\n",
      "NNNNNNNNNNNNNNNNNNNNNNNNNNNNNNNNNNNNNNNNNNNN...NNN JF899340\n",
      "ATGCCGACAGAAAGCAAGAAAGTTAGATTTGAAAATACTGCTTC...TAA JN808857\n",
      "ATGCCGACAGAAAGCAAGAAAGTTAGATTCGAAAATACTGCTTC...TAA JN808864\n",
      "ATGCCGACAGAAAGCAAGAAAGTTAGATTCGAAAATACTGCTTC...TAA MH396625\n",
      "NNNNNNNNNNNNNNNNNNNNNNNNNNNNNNNNNNNNNNNNNNNN...NNN MH891777\n",
      "ATGCCGACAGAAAGCAAGAAAGTTAGATTCGAAAATACTGCTTC...TAA MK575060\n",
      "ATGCCGACAGAAAGCAAGAAAGTTAGATTCGAAAATACTGCTTC...TAA MK575063\n",
      "ATGCCGACAGAAAGCAAGAAAGTTAGATTCGAAAATACTGCTTC...TAA MK575069\n",
      "ATGCCGACAGAAAACAAGAAAGTTAGATTCGAAAATACTACTTC...TAA MK673559\n",
      "ATGCCGGCAGAAAACAAGAAAGTTAGATTCGAAAATACTACTTC...TAA MK673560\n",
      "...\n",
      "ATGCCGACAGAAAGCAAGAAAGTAAGATTCGAAAATACTGCTTC...TAA MW535746\n"
     ]
    }
   ],
   "source": [
    "for alignment in alignments: \n",
    "    print(alignment)"
   ]
  },
  {
   "cell_type": "code",
   "execution_count": 23,
   "id": "b4e1bbf8-0338-4740-997f-3826571f5bf9",
   "metadata": {},
   "outputs": [
    {
     "name": "stdout",
     "output_type": "stream",
     "text": [
      "   5   855   I\n",
      "\n",
      "\n",
      "\n",
      "human\n",
      "\n",
      "goat-cow\n",
      "\n",
      "rabbit\n",
      "\n",
      "rat\n",
      "\n",
      "marsupial\n",
      "\n",
      "1       \n",
      "\n",
      "GTG CTG TCT CCT GCC GAC AAG ACC AAC GTC AAG GCC GCC TGG GGC AAG GTT GGC GCG CAC\n",
      "\n",
      "... ... ... G.C ... ... ... T.. ..T ... ... ... ... ... ... ... ... ... .GC A..\n",
      "\n",
      "... ... ... ..C ..T ... ... ... ... A.. ... A.T ... ... .AA ... A.C ... AGC ...\n",
      "\n",
      "... ..C ... G.A .AT ... ..A ... ... A.. ... AA. TG. ... ..G ... A.. ..T .GC ..T\n",
      "\n",
      "... ..C ..G GA. ..T ... ... ..T C.. ..G ..A ... AT. ... ..T ... ..G ..A .GC ...\n",
      "\n",
      "61      \t\t\t\t\t\t\t\t       \n",
      "\n",
      "GCT GGC GAG TAT GGT GCG GAG GCC CTG GAG AGG ATG TTC CTG TCC TTC CCC ACC ACC AAG\n",
      "\n",
      "... ..A .CT ... ..C ..A ... ..T ... ... ... ... ... ... AG. ... ... ... ... ...\n",
      "\n",
      ".G. ... ... ... ..C ..C ... ... G.. ... ... ... ... T.. GG. ... ... ... ... ...\n",
      "\n",
      ".G. ..T ..A ... ..C .A. ... ... ..A C.. ... ... ... GCT G.. ... ... ... ... ...\n",
      "\n",
      "..C ..T .CC ..C .CA ..T ..A ..T ..T .CC ..A .CC ... ..C ... ... ... ..T ... ..A\n",
      "\n",
      "121     \t\t\t\t\t\t\t\t       \n",
      "\n",
      "ACC TAC TTC CCG CAC TTC GAC CTG AGC CAC GGC TCT GCC CAG GTT AAG GGC CAC GGC AAG\n",
      "\n",
      "... ... ... ..C ... ... ... ... ... ... ... ..G ... ... ..C ... ... ... ... G..\n",
      "\n",
      "... ... ... ..C ... ... ... T.C .C. ... ... ... .AG ... A.C ..A .C. ... ... ...\n",
      "\n",
      "... ... ... T.T ... A.T ..T G.A ... .C. ... ... ... ... ..C ... .CT ... ... ...\n",
      "\n",
      "..T ... ... ..C ... ... ... ... TC. .C. ... ..C ... ... A.C C.. ..T ..T ..T ...\n",
      "\n",
      "181     \t\t\t\t\t\t\t\t       \n",
      "\n",
      "AAG GTG GCC GAC GCG CTG ACC AAC GCC GTG GCG CAC GTG GAC GAC ATG CCC AAC GCG CTG\n",
      "\n",
      "... ... ... .C. ... ... ... ..A ..G ... .GC ... C.. ... ... C.. ... GGT A.T ...\n",
      "\n",
      "... ... T.. ..A ..C ... ... ..G ... ... .GC ... C.. ... ... C.. ... GG. ..C ...\n",
      "\n",
      "... ..T ..T ..T ..C T.. G.. ..A ..T .CA .AC ... ..C ..A ... C.. ..T GGT ..C ...\n",
      "\n",
      "... ..A ... ..T ..C ..T T.. C.G ..T ..T ..C ... C.. ... ... C.. ... GGA A.C A..\n",
      "\n",
      "241     \t\t\t\t\t\t\t\t       \n",
      "\n",
      "TCC GCC CTG AGC GAC CTG CAC GCG CAC AAG CTT CGG GTG GAC CCG GTC AAC TTC AAG CTC\n",
      "\n",
      "..T .AT ... ..T ... ... ... ..C ... ... ..G ..T ... ... ... ... ... ..T ... ..T\n",
      "\n",
      "..T A.T ..C ... ... ... ... ... ... ... ..G ... ... ... ... ..G ..T ... ... ...\n",
      "\n",
      "... A.T ... ... ... ... ..T ..C ... ..A ..G ..T ... ..T ..T ... ... ... ... T..\n",
      "\n",
      "... AAA ..A ... ... ... ... ..C ... ... ..G A.A ... ..T ..C ..G ... ... ... ...\n",
      "\n",
      "301     \t\t\t\t\t\t\t\t       \n",
      "\n",
      "CTA AGC CAC TGC CTG CTG GTG ACC CTG GCC GCC CAC CTC CCC GCC GAG TTC ACC CCT GCG\n",
      "\n",
      "..G ... ... .C. ... ... ... ... ... ... TG. ... ... ... AAT ..T ... ... ..C ...\n",
      "\n",
      "..G TC. ... ... ... ... ... ... ... ... AA. ... .A. ... AGT ..A ... ... ... ...\n",
      "\n",
      "..G ... ... ... ... ... ... ... T.. ..T TG. ... .A. ..T .GA ..T ... ..A ..C ..C\n",
      "\n",
      "..C TCT ... ... ... A.C ... ..T ... ... ... ..T ..G AG. AAG ..T ..G ..T ..C .AA\n",
      "\n",
      "361     \t\t\t\t\t\t\t\t       \n",
      "\n",
      "GTG CAC GCC TCC CTG GAC AAG TTC CTG GCT TCT GTG AGC ACC GTG CTG ACC TCC AAA TAC\n",
      "\n",
      "..C ... ... ... ... ... ... ... T.. ..C AAC ... ... ... ... ... ... ... ... ...\n",
      "\n",
      "... ..T ... ... ... ... ... ... ... ..C AAC ... ... ... ... ... ... ... ... ..T\n",
      "\n",
      "A.. ... ... ..T ... ... ..A ... ..T ..C ... ... ... ..T ... ... ... ... ..G ...\n",
      "\n",
      "... ... ... ... A.. ... ... ... T.T ..C ... ... GCT ... ... ... ... ..G ..G ...\n",
      "\n",
      "421     \t\t\t\t\t\t\t\t       \n",
      "\n",
      "CGT CTG ACT CCT GAG GAG AAG TCT GCC GTT ACT GCC CTG TGG GGC AAG GTG AAC GTG GAT\n",
      "\n",
      "... ... ... G.. ... ... ... G.. ... ..C ..C ... T.T ... ... ... ... ..A ... ...\n",
      "\n",
      "... ... T.C AG. ... ... ... ... ..G ..C ... ... ... ... ... ... ... ..T ... ..A\n",
      "\n",
      "... ..A ... GA. .CT ... ... G.. ..T ... .A. ... ... ... ..A ... ... ... CCT ...\n",
      "\n",
      "... T.. ... T.. ... ... ... AAC TG. A.C ... A.. A.C ... TCT ... ... C.G ..T ..C\n",
      "\n",
      "481     \t\t\t\t\t\t\t\t       \n",
      "\n",
      "GAA GTT GGT GGT GAG GCC CTG GGC AGG CTG CTG GTG GTC TAC CCT TGG ACC CAG AGG TTC\n",
      "\n",
      "... ... ... ... ... ... ... ... ... ... ... ..T ... ... ..C ... ..T ... ... ...\n",
      "\n",
      "... ... ... ... ... ... ... ... ... ... ... ..T ... ... ..A ... ... ... ... ...\n",
      "\n",
      "..T ... ... ..C ... ... ... ... ... ... ... ..T ... ... ... ... ... ... ... .A.\n",
      "\n",
      "C.G AC. ... ... ... ... ..T ... ... A.. ..C ..T ... ... ..C ... ... ACC ... ..T\n",
      "\n",
      "541     \t\t\t\t\t\t\t\t       \n",
      "\n",
      "TTT GAG TCC TTT GGG GAT CTG TCC ACT CCT GAT GCT GTT ATG GGC AAC CCT AAG GTG AAG\n",
      "\n",
      "... ... ... ... ... ..C T.. ... ... G.. ... ... ... ... AA. ... ... ... ... ...\n",
      "\n",
      "..C ... ... ... ... ..C ... ... T.. G.A A.. ... ... ... AA. ..T ... ... ... ...\n",
      "\n",
      "... ..T AG. ... ... ..C ... ... T.. G.C TC. ... A.C ... ..T ... ... ... ... ...\n",
      "\n",
      "... .G. AG. ... ..T ... ... ... T.. ... .GC ... ..C ... TCA ..T T.. ... ..T C.A\n",
      "\n",
      "601     \t\t\t\t\t\t\t\t       \n",
      "\n",
      "GCT CAT GGC AAG AAA GTG CTC GGT GCC TTT AGT GAT GGC CTG GCT CAC CTG GAC AAC CTC\n",
      "\n",
      "..C ... ... ... ..G ... ..A .A. T.. ... ... A.. ... A.. AAG ..T ..C ..T G.. ...\n",
      "\n",
      "... ... ... ... ..G ... ..G .C. ... ..C ... ..G ..T ... AG. ... ... ... ... ...\n",
      "\n",
      "..C ... ... ... ..G ... A.A AAC ... ..C .A. ... ... ... AAA ... T.. ... ... ...\n",
      "\n",
      "..C ... ..T GCT ..G ... T.G ACC T.. ..C G.. ..A .CA G.C AAG ..T T.. ... ... ..G\n",
      "\n",
      "661     \t\t\t\t\t\t\t\t       \n",
      "\n",
      "AAG GGC ACC TTT GCC ACA CTG AGT GAG CTG CAC TGT GAC AAG CTG CAC GTG GAT CCT GAG\n",
      "\n",
      "... ... ... ... ..T G.G ... ... ... ... ... ... ..T ... ... ..T ... ... ... ...\n",
      "\n",
      "..A ... ... ... ..T .AG ... ... ..A ... ... ... ... ... ... ... ... ... ... ...\n",
      "\n",
      "... ... ... ... ..T CAT ... ... ..A ..C ... ... ... ... ... ..T ... ... ... ...\n",
      "\n",
      "... ..T ..T .A. ... .AG T.. ... ... ..C ... ... ... ... ... ..T ... ..C ... ...\n",
      "\n",
      "721     \t\t\t\t\t\t\t\t       \n",
      "\n",
      "AAC TTC AGG CTC CTG GGC AAC GTG CTG GTC TGT GTG CTG GCC CAT CAC TTT GGC AAA GAA\n",
      "\n",
      "... ... .A. ... ... ... ... ... ..A ..G GT. ... ... ..T .GC A.T ... ... ..G ...\n",
      "\n",
      "... ... ... ... ... ... ... ... ... ..T AT. ... ... T.T ... ..T ... ... ... ...\n",
      "\n",
      "... ... ... ... ... ... ..T A.. A.T ..G AT. ... T.. .G. ..C ... C.G ... ..G ...\n",
      "\n",
      "... ... .A. A.G ... ..G ..T A.C A.T ..G ATC TGC ... ..T G.G ... ... ... ..G ..T\n",
      "\n",
      "781     \t\t\t\t\t\t\t\t       \n",
      "\n",
      "TTC ACC CCA CCA GTG CAG GCT GCC TAT CAG AAA GTG GTG GCT GGT GTG GCT AAT GCC CTG\n",
      "\n",
      "... ... ..G GTG C.. ... ... .A. .T. ... ..G ... ... ... ... ... ..C ... ... ...\n",
      "\n",
      "... ..T ..T .AG ... ... ... ... ... ... ..G ... ... ... ... ... ..C ... ... ...\n",
      "\n",
      "... ... ..C TGT .CA ... ... ... .TC ... ..G ... ... ... ..A ... ..C .G. ... ...\n",
      "\n",
      "..T ..T ..T GA. TGT ... .T. ..T .GG ... ..G C.C ... ... ..A ..T ..C C.. ... ...\n",
      "\n",
      "841     \n",
      "\n",
      "GCC CAC AAG TAT CAC \n",
      "\n",
      "... ... .GA ... ..T \n",
      "\n",
      "..T ... ..A ..C ... \n",
      "\n",
      "..T ... ... ..C ... \n",
      "\n",
      "... ... ... ..C ... \n",
      "\n",
      "\n",
      "\n"
     ]
    }
   ],
   "source": [
    "with open(\"../../paml4.9j/examples/abglobin.nuc\") as file:\n",
    "    \n",
    "    for line in file:\n",
    "        print(line)"
   ]
  },
  {
   "cell_type": "code",
   "execution_count": null,
   "id": "d41530d9-01ad-45b4-88c3-7c47f1e10c7e",
   "metadata": {},
   "outputs": [],
   "source": []
  }
 ],
 "metadata": {
  "kernelspec": {
   "display_name": "Python 3 (ipykernel)",
   "language": "python",
   "name": "python3"
  },
  "language_info": {
   "codemirror_mode": {
    "name": "ipython",
    "version": 3
   },
   "file_extension": ".py",
   "mimetype": "text/x-python",
   "name": "python",
   "nbconvert_exporter": "python",
   "pygments_lexer": "ipython3",
   "version": "3.8.12"
  }
 },
 "nbformat": 4,
 "nbformat_minor": 5
}
