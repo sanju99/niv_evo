{
 "cells": [
  {
   "cell_type": "code",
   "execution_count": 2,
   "id": "9a2b6737-7271-44eb-a849-2020f18876cd",
   "metadata": {},
   "outputs": [],
   "source": [
    "import numpy as np\n",
    "import pandas as pd\n",
    "#from Bio import AlignIO, SeqIO"
   ]
  },
  {
   "cell_type": "markdown",
   "id": "133d0b02-31c6-4dc4-8fc5-b7afdce72d3d",
   "metadata": {},
   "source": [
    "# HyPhy\n",
    "\n",
    "## Data input format (easiest of the options):\n",
    "\n",
    "Two separate files with the alignment and phylogeny each. \n",
    "\n",
    "Most standard alignment formats are accepted (FASTA, phylip, etc.), and the phylogeny should be Newick-formatted.\n",
    "\n",
    "Launch with `hyphy -i`\n",
    "\n",
    "Tutorial: http://hyphy.org/tutorials/CL-prompt-tutorial/\n",
    "\n",
    "# Methods\n",
    "\n",
    "## BUSTED\n",
    "\n",
    "BUSTED (Branch-Site Unrestricted Statistical Test for Episodic Diversification) provides a gene-wide (not site-specific) test for positive selection by asking whether a gene has experienced positive selection at at least one site on at least one branch.\n",
    "\n",
    "<ul>\n",
    "    <li>Can specify which branches to test or do all of them.</li>\n",
    "</ul>"
   ]
  },
  {
   "cell_type": "markdown",
   "id": "239dcecf-8888-4602-be6b-502d8856af16",
   "metadata": {},
   "source": [
    "# Fasta files can not have stop codons in them, so generate new files for them"
   ]
  },
  {
   "cell_type": "code",
   "execution_count": null,
   "id": "21fc9d21-3dbb-4fce-ba20-a841c12331af",
   "metadata": {},
   "outputs": [],
   "source": [
    "# G_seq = SeqIO.parse(\"../sequences/PG/G_deduplicated.fasta\")\n",
    "# P_seq = SeqIO.parse(\"../sequences/PG/P_deduplicated.fasta\")"
   ]
  },
  {
   "cell_type": "code",
   "execution_count": 14,
   "id": "0cf0cb0c-91e2-4306-8970-6a1280b4f853",
   "metadata": {},
   "outputs": [],
   "source": [
    "with open(\"../sequences/PG/P_deduplicated.fasta\", \"r\") as og_file:\n",
    "    \n",
    "    with open(\"P_no_stop_codons.fasta\", \"w+\") as new_file:\n",
    "    \n",
    "        for line in og_file:\n",
    "\n",
    "            if \">\" in line:\n",
    "                new_file.write(line)\n",
    "            else:\n",
    "                \n",
    "                # last character is new line, so don't include that and the last 3 nucleotides\n",
    "                new_file.write(line[:-4] + \"\\n\")"
   ]
  },
  {
   "cell_type": "code",
   "execution_count": null,
   "id": "c5d50fad-9494-4a52-8eea-b0738c05f860",
   "metadata": {},
   "outputs": [
    {
     "data": {
      "text/plain": [
       "array([2127])"
      ]
     },
     "execution_count": 16,
     "metadata": {},
     "output_type": "execute_result"
    }
   ],
   "source": [
    "lengths = []\n",
    "\n",
    "with open(\"P_no_stop_codons.fasta\", \"r\") as file:\n",
    "    \n",
    "    for line in file:\n",
    "        if \">\" not in line:\n",
    "            lengths.append(len(line)-1)\n",
    "            \n",
    "# should be 1806 for G, 2127 for P\n",
    "np.unique(lengths)"
   ]
  },
  {
   "cell_type": "code",
   "execution_count": 12,
   "id": "9d887f16-e6b5-4890-9b67-f1b8f016d5c1",
   "metadata": {},
   "outputs": [
    {
     "data": {
      "text/plain": [
       "array([1806])"
      ]
     },
     "execution_count": 12,
     "metadata": {},
     "output_type": "execute_result"
    }
   ],
   "source": []
  },
  {
   "cell_type": "code",
   "execution_count": null,
   "id": "dada06b6-e1d8-41b0-97ce-20392cc206c9",
   "metadata": {},
   "outputs": [],
   "source": []
  }
 ],
 "metadata": {
  "kernelspec": {
   "display_name": "Python 3",
   "language": "python",
   "name": "python3"
  },
  "language_info": {
   "codemirror_mode": {
    "name": "ipython",
    "version": 3
   },
   "file_extension": ".py",
   "mimetype": "text/x-python",
   "name": "python",
   "nbconvert_exporter": "python",
   "pygments_lexer": "ipython3",
   "version": "3.8.8"
  }
 },
 "nbformat": 4,
 "nbformat_minor": 5
}
