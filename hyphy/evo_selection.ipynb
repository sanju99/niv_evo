{
 "cells": [
  {
   "cell_type": "code",
   "execution_count": 1,
   "id": "9a2b6737-7271-44eb-a849-2020f18876cd",
   "metadata": {},
   "outputs": [],
   "source": [
    "import numpy as np\n",
    "import pandas as pd\n",
    "from Bio import AlignIO, SeqIO"
   ]
  },
  {
   "cell_type": "markdown",
   "id": "133d0b02-31c6-4dc4-8fc5-b7afdce72d3d",
   "metadata": {},
   "source": [
    "# PAML\n",
    "\n",
    "Copied all `.ctl` files from the tar file for Linux/Mac <a href=\"http://abacus.gene.ucl.ac.uk/software/#downloads-and-installation-2\" target=\"_blank\">here</a>.\n",
    "\n",
    "# HyPhy\n",
    "\n",
    "## Data input format (easiest of the options):\n",
    "\n",
    "Two separate files with the alignment and phylogeny each. \n",
    "\n",
    "Most standard alignment formats are accepted (FASTA, phylip, etc.), and the phylogeny should be Newick-formatted.\n",
    "\n",
    "Launch with `hyphy -i`\n",
    "\n",
    "Tutorial: http://hyphy.org/tutorials/CL-prompt-tutorial/\n",
    "\n",
    "# Methods\n",
    "\n",
    "Good explanations: https://stevenweaver.github.io/hyphy-site/methods/selection-methods\n",
    "\n",
    "## BUSTED\n",
    "\n",
    "BUSTED (Branch-Site Unrestricted Statistical Test for Episodic Diversification) provides a gene-wide (not site-specific) test for positive selection by asking whether a gene has experienced positive selection at at least one site on at least one branch.\n",
    "\n",
    "<ul>\n",
    "    <li>Can specify which branches to test or do all of them.</li>\n",
    "    <li> It is gene-wide, not site-specific, so probably not desired for our purposes?</li>\n",
    "</ul>\n",
    "\n",
    "\n",
    "## FEL and SLAC\n",
    "\n",
    "Infer dN and dS substitutions rates on a per-site basis. Assume that selection pressure for each site is constant along the entire phylogeny. This is probably not true in this case because the Nipah virus sequences come from different organisms with different immune behavior. <b>How do we account for this without a temporal analysis?</b>\n",
    "\n",
    "SLAC uses maximum-likelihood and counting approaches. FEL is a fixed effects model.  "
   ]
  },
  {
   "cell_type": "markdown",
   "id": "239dcecf-8888-4602-be6b-502d8856af16",
   "metadata": {},
   "source": [
    "# Fasta files can not have stop codons in them, so generate new files for them"
   ]
  },
  {
   "cell_type": "code",
   "execution_count": 5,
   "id": "21fc9d21-3dbb-4fce-ba20-a841c12331af",
   "metadata": {},
   "outputs": [],
   "source": [
    "G_seq = [(seq_record.id, seq_record.seq) for seq_record in SeqIO.parse(\"G_no_stop_codons.fasta\", \"fasta\")]\n",
    "P_seq = [(seq_record.id, seq_record.seq) for seq_record in SeqIO.parse(\"P_no_stop_codons.fasta\", \"fasta\")]"
   ]
  },
  {
   "cell_type": "code",
   "execution_count": 66,
   "id": "79e090c8-673e-4d54-bee2-ce8a4dda445c",
   "metadata": {},
   "outputs": [],
   "source": [
    "P_nonsense = [(seq_record.id, seq_record.seq) for seq_record in SeqIO.parse(\"P_nonsense.fasta\", \"fasta\")][0]"
   ]
  },
  {
   "cell_type": "code",
   "execution_count": 60,
   "id": "a8bf5415-0732-42a0-a9f2-3449b47b2e26",
   "metadata": {},
   "outputs": [
    {
     "data": {
      "text/plain": [
       "352"
      ]
     },
     "execution_count": 60,
     "metadata": {},
     "output_type": "execute_result"
    }
   ],
   "source": [
    "len(\"MEPDIKSISSESMEGVSDFSPSSWENGGYLDKVEPEIDENGSMIPKYKIYTPGANERKYNNYMYLICYGFVEDVERTPETGKRKKIRTIAAYPLGVGKSASHPQDLLEELCSLKVTVRRTAGSTEKVVFGSSGPLNHLVPWKKVLTGGSIFNAVKVCRNVDQIQLDKHQALRIFFLSITKLNDSGIYMIPRTMLEFRRNNAIAFNLLVYLKIDADLSKMGIQGSLDKDGFKVASFMLHLGNFVRRAGKYYSVDYCRRKIDRMKLQFSLGSIGGLSLHIKINGVISKRLFAQMGFQKNLCFSLMDINPWLNRLTWNNSCEISRVAAVLQPSVPREFMIYDDVFIDNTGRILKG\")"
   ]
  },
  {
   "cell_type": "code",
   "execution_count": 61,
   "id": "328f7a74-228f-4ec7-95ad-f7a49b7fc406",
   "metadata": {},
   "outputs": [
    {
     "data": {
      "text/plain": [
       "14"
      ]
     },
     "execution_count": 61,
     "metadata": {},
     "output_type": "execute_result"
    }
   ],
   "source": [
    "list(list(zip(*P_seq))[0]).index(\"MK575063\")"
   ]
  },
  {
   "cell_type": "code",
   "execution_count": 62,
   "id": "5da3d1ca-d1a6-4e78-a108-c24fa8668e90",
   "metadata": {},
   "outputs": [
    {
     "data": {
      "text/plain": [
       "1071"
      ]
     },
     "execution_count": 62,
     "metadata": {},
     "output_type": "execute_result"
    }
   ],
   "source": [
    "len(\"ATGGATAAATTGGAACTAGTTAATGATGGCCTCAATATTATTGACTTTATTCAGAAGAACCAAAAAGAAATACAGAAGACATACGGACGATCAAGCATTCAACAACCCAGCATCAAAGACCGAACAAAAGCATGGGAGGATTTTCTGCAGTGCACCAGTGGAGAATCTGAACAAGTTGAGAGGGGAATGTCTAAGGATGATGGAGGTGTTGAAAGAAGAAGCTTGGAGGATCTATCCAGTGCTTCTCCCACAGATGGAACTATTGGAAAAAGAGTGTCGAACACCCGTGACTGGGCAGAAGGTTCAGATGACATACAACTGGACCCAGTGGTTACAGACGTTGTATACCATGATCATGGAGGAGAATGTACCGGATATGGATTTACTTCAAGCCCTGAGAGAGGGTGGAGTGATCACTCATCAGGAGCAAACAATGGGGATGTATGTCTTGTATCTGATGCAAAGGTGCTGTCCTATGCTCCCGAAATTGCAGTTTCTAAAGAAGATCGGGAAACTGATCTAGTTCACCTTGAGGACAAACTATCTGCTACAGGACTGAACCCTACAGCAATACCATTCACTCCAAAAAATCTGTCTGTTCCTGCAAAAGATTCTCCTGTGATTGCTGAACACTACTACGGGCTAGGAGTTAGAGAGCAAAACGTTGATCCCCAGACTAACAGAAATGTCAATTTGGACAGCATCAAATTGTACACATCAGATGACGAAGAGGCAGACCAGCTCGAATTTGAGGATGAGTTTGCAGGGAGTTCAAGTGAAGTGATAGTCGGCATTTCTCCTGAAGAGGAAGAGCCTTCAAGTGCTGGCAGGAAACCTATTGAATCCGTTGGACATATAATTGAGGGCCAGTCAACTCGAGACAGCCTCCAAATTAAGGACAACAAGCCGGCAGATGCACCAGGAGCAGGACCGAGAGATTCGGCAGTGAAGGAAAAATCACCCCAGAAGAGGCTGCCTATGTTAGCAGAAGAGTTTGAATGCTCTGGATCTGAAGACCCAATTATCCAAGAGTTGCTGAAAGAGAATTCATTCATAAATAGTCAACAAGGG\")"
   ]
  },
  {
   "cell_type": "code",
   "execution_count": 63,
   "id": "9005e6b1-a354-45db-872d-47414328dfe0",
   "metadata": {},
   "outputs": [
    {
     "data": {
      "text/plain": [
       "357.0"
      ]
     },
     "execution_count": 63,
     "metadata": {},
     "output_type": "execute_result"
    }
   ],
   "source": [
    "1071/3"
   ]
  },
  {
   "cell_type": "code",
   "execution_count": 37,
   "id": "00067397-a0ac-4358-ae9e-5ed8b814ffeb",
   "metadata": {},
   "outputs": [],
   "source": [
    "#import re\n",
    "#list(re.finditer(\"TAA\", str(P_seq[14][1])))"
   ]
  },
  {
   "cell_type": "markdown",
   "id": "d0270ff8-8843-433c-bbcc-952fb18ed5cc",
   "metadata": {},
   "source": [
    "\n"
   ]
  },
  {
   "cell_type": "code",
   "execution_count": 42,
   "id": "62c82beb-b4ed-4216-b665-f1067c5d8c51",
   "metadata": {},
   "outputs": [],
   "source": [
    "n = 3\n",
    "codons = [str(P_seq[14][1])[i:i+n] for i in range(0, len(P_seq[14][1]), n)]"
   ]
  },
  {
   "cell_type": "code",
   "execution_count": 44,
   "id": "3b62bb64-dd12-413d-be4c-b74062ce5347",
   "metadata": {},
   "outputs": [
    {
     "data": {
      "text/plain": [
       "(array([], dtype=int64),)"
      ]
     },
     "execution_count": 44,
     "metadata": {},
     "output_type": "execute_result"
    }
   ],
   "source": [
    "np.where(codons==\"TAA\")"
   ]
  },
  {
   "cell_type": "code",
   "execution_count": 46,
   "id": "0fbf9321-e2bd-4168-b41d-333433b9ccc2",
   "metadata": {},
   "outputs": [
    {
     "data": {
      "text/plain": [
       "357"
      ]
     },
     "execution_count": 46,
     "metadata": {},
     "output_type": "execute_result"
    }
   ],
   "source": [
    "codons.index(\"TAA\")"
   ]
  },
  {
   "cell_type": "code",
   "execution_count": 47,
   "id": "417e6cb5-c04c-4142-9ee8-48b603fb40f3",
   "metadata": {},
   "outputs": [
    {
     "data": {
      "text/plain": [
       "1071"
      ]
     },
     "execution_count": 47,
     "metadata": {},
     "output_type": "execute_result"
    }
   ],
   "source": [
    "357*3"
   ]
  },
  {
   "cell_type": "code",
   "execution_count": 48,
   "id": "3de22730-d06d-42c2-93d4-6ab8cea262d4",
   "metadata": {},
   "outputs": [
    {
     "data": {
      "text/plain": [
       "Seq('TAA')"
      ]
     },
     "execution_count": 48,
     "metadata": {},
     "output_type": "execute_result"
    }
   ],
   "source": [
    "P_seq[14][1][1071:1074]"
   ]
  },
  {
   "cell_type": "code",
   "execution_count": 56,
   "id": "1de8224f-98d1-4b1b-ada5-f2d4ddeb9177",
   "metadata": {},
   "outputs": [
    {
     "data": {
      "text/plain": [
       "2127"
      ]
     },
     "execution_count": 56,
     "metadata": {},
     "output_type": "execute_result"
    }
   ],
   "source": [
    "len(str(P_seq[14][1])[:1071] + \"-\"*(2127-1071))"
   ]
  },
  {
   "cell_type": "code",
   "execution_count": 57,
   "id": "bc4e6bbd-c64d-4de3-8d0e-e8cc8c70d975",
   "metadata": {},
   "outputs": [
    {
     "data": {
      "text/plain": [
       "'ATGGATAAATTGGAACTAGTTAATGATGGCCTCAATATTATTGACTTTATTCAGAAGAACCAAAAAGAAATACAGAAGACATACGGACGATCAAGCATTCAACAACCCAGCATCAAAGACCGAACAAAAGCATGGGAGGATTTTCTGCAGTGCACCAGTGGAGAATCTGAACAAGTTGAGAGGGGAATGTCTAAGGATGATGGAGGTGTTGAAAGAAGAAGCTTGGAGGATCTATCCAGTGCTTCTCCCACAGATGGAACTATTGGAAAAAGAGTGTCGAACACCCGTGACTGGGCAGAAGGTTCAGATGACATACAACTGGACCCAGTGGTTACAGACGTTGTATACCATGATCATGGAGGAGAATGTACCGGATATGGATTTACTTCAAGCCCTGAGAGAGGGTGGAGTGATCACTCATCAGGAGCAAACAATGGGGATGTATGTCTTGTATCTGATGCAAAGGTGCTGTCCTATGCTCCCGAAATTGCAGTTTCTAAAGAAGATCGGGAAACTGATCTAGTTCACCTTGAGGACAAACTATCTGCTACAGGACTGAACCCTACAGCAATACCATTCACTCCAAAAAATCTGTCTGTTCCTGCAAAAGATTCTCCTGTGATTGCTGAACACTACTACGGGCTAGGAGTTAGAGAGCAAAACGTTGATCCCCAGACTAACAGAAATGTCAATTTGGACAGCATCAAATTGTACACATCAGATGACGAAGAGGCAGACCAGCTCGAATTTGAGGATGAGTTTGCAGGGAGTTCAAGTGAAGTGATAGTCGGCATTTCTCCTGAAGAGGAAGAGCCTTCAAGTGCTGGCAGGAAACCTATTGAATCCGTTGGACATATAATTGAGGGCCAGTCAACTCGAGACAGCCTCCAAATTAAGGACAACAAGCCGGCAGATGCACCAGGAGCAGGACCGAGAGATTCGGCAGTGAAGGAAAAATCACCCCAGAAGAGGCTGCCTATGTTAGCAGAAGAGTTTGAATGCTCTGGATCTGAAGACCCAATTATCCAAGAGTTGCTGAAAGAGAATTCATTCATAAATAGTCAACAAGGG------------------------------------------------------------------------------------------------------------------------------------------------------------------------------------------------------------------------------------------------------------------------------------------------------------------------------------------------------------------------------------------------------------------------------------------------------------------------------------------------------------------------------------------------------------------------------------------------------------------------------------------------------------------------------------------------------------------------------------------------------------------------------------------------------------------------------------------------------------------------------------------------------------------------------------------------------------------------------------------------------------------------------------------------------------------------------------------------'"
      ]
     },
     "execution_count": 57,
     "metadata": {},
     "output_type": "execute_result"
    }
   ],
   "source": [
    "str(P_seq[14][1])[:1071] + \"-\"*(2127-1071)"
   ]
  },
  {
   "cell_type": "code",
   "execution_count": 38,
   "id": "50edc9d4-5cf8-4676-b84f-b9ea5455bc46",
   "metadata": {},
   "outputs": [
    {
     "data": {
      "text/plain": [
       "351.3333333333333"
      ]
     },
     "execution_count": 38,
     "metadata": {},
     "output_type": "execute_result"
    }
   ],
   "source": [
    "1054/3"
   ]
  },
  {
   "cell_type": "code",
   "execution_count": 25,
   "id": "69e6c51a-cbef-4d20-83b1-235c5e63c91b",
   "metadata": {},
   "outputs": [
    {
     "data": {
      "text/plain": [
       "2127"
      ]
     },
     "execution_count": 25,
     "metadata": {},
     "output_type": "execute_result"
    }
   ],
   "source": [
    "len(P_seq[14][1])"
   ]
  },
  {
   "cell_type": "code",
   "execution_count": null,
   "id": "5cea74ee-4a5a-493c-873c-eed9bfc65da4",
   "metadata": {},
   "outputs": [],
   "source": [
    "hyphy/P_no_stop_codons.fasta"
   ]
  },
  {
   "cell_type": "code",
   "execution_count": null,
   "id": "b7339b38-2208-440e-913e-abd82676d8bf",
   "metadata": {},
   "outputs": [],
   "source": []
  },
  {
   "cell_type": "code",
   "execution_count": null,
   "id": "87cc6b80-b5a3-43c6-8648-274969251b28",
   "metadata": {},
   "outputs": [],
   "source": []
  },
  {
   "cell_type": "code",
   "execution_count": 8,
   "id": "11e753d2-9b9b-4e50-af86-4280cce05cf8",
   "metadata": {},
   "outputs": [
    {
     "name": "stdout",
     "output_type": "stream",
     "text": [
      "2127\n",
      "2127\n",
      "2127\n",
      "2127\n",
      "2127\n",
      "2127\n",
      "2127\n",
      "2127\n",
      "2127\n",
      "2127\n",
      "2127\n",
      "2127\n",
      "2127\n",
      "2127\n",
      "2127\n",
      "2127\n",
      "2127\n",
      "2127\n",
      "2127\n",
      "2127\n",
      "2127\n",
      "2127\n",
      "2127\n",
      "2127\n",
      "2127\n",
      "2127\n",
      "2127\n",
      "2127\n",
      "2127\n",
      "2127\n",
      "2127\n",
      "2127\n",
      "2127\n",
      "2127\n",
      "2127\n",
      "2127\n",
      "2127\n",
      "2127\n",
      "2127\n",
      "2127\n",
      "2127\n",
      "2127\n",
      "2127\n",
      "2127\n",
      "2127\n",
      "2127\n",
      "2127\n",
      "2127\n",
      "2127\n",
      "2127\n",
      "2127\n"
     ]
    }
   ],
   "source": [
    "for seq in P_seq:\n",
    "    print(len(seq[1]))"
   ]
  },
  {
   "cell_type": "code",
   "execution_count": null,
   "id": "10883c29-9e35-43b7-8d89-537157de3db4",
   "metadata": {},
   "outputs": [],
   "source": []
  },
  {
   "cell_type": "code",
   "execution_count": 14,
   "id": "0cf0cb0c-91e2-4306-8970-6a1280b4f853",
   "metadata": {},
   "outputs": [],
   "source": [
    "with open(\"../sequences/PG/P_deduplicated.fasta\", \"r\") as og_file:\n",
    "    \n",
    "    with open(\"P_no_stop_codons.fasta\", \"w+\") as new_file:\n",
    "    \n",
    "        for line in og_file:\n",
    "\n",
    "            if \">\" in line:\n",
    "                new_file.write(line)\n",
    "            else:\n",
    "                \n",
    "                # last character is new line, so don't include that and the last 3 nucleotides\n",
    "                new_file.write(line[:-4] + \"\\n\")"
   ]
  },
  {
   "cell_type": "code",
   "execution_count": null,
   "id": "c5d50fad-9494-4a52-8eea-b0738c05f860",
   "metadata": {},
   "outputs": [
    {
     "data": {
      "text/plain": [
       "array([2127])"
      ]
     },
     "execution_count": 16,
     "metadata": {},
     "output_type": "execute_result"
    }
   ],
   "source": [
    "lengths = []\n",
    "\n",
    "with open(\"P_no_stop_codons.fasta\", \"r\") as file:\n",
    "    \n",
    "    for line in file:\n",
    "        if \">\" not in line:\n",
    "            lengths.append(len(line)-1)\n",
    "            \n",
    "# should be 1806 for G, 2127 for P\n",
    "np.unique(lengths)"
   ]
  },
  {
   "cell_type": "code",
   "execution_count": 12,
   "id": "9d887f16-e6b5-4890-9b67-f1b8f016d5c1",
   "metadata": {},
   "outputs": [
    {
     "data": {
      "text/plain": [
       "array([1806])"
      ]
     },
     "execution_count": 12,
     "metadata": {},
     "output_type": "execute_result"
    }
   ],
   "source": []
  },
  {
   "cell_type": "code",
   "execution_count": null,
   "id": "dada06b6-e1d8-41b0-97ce-20392cc206c9",
   "metadata": {},
   "outputs": [],
   "source": []
  }
 ],
 "metadata": {
  "kernelspec": {
   "display_name": "Python 3 (ipykernel)",
   "language": "python",
   "name": "python3"
  },
  "language_info": {
   "codemirror_mode": {
    "name": "ipython",
    "version": 3
   },
   "file_extension": ".py",
   "mimetype": "text/x-python",
   "name": "python",
   "nbconvert_exporter": "python",
   "pygments_lexer": "ipython3",
   "version": "3.8.12"
  }
 },
 "nbformat": 4,
 "nbformat_minor": 5
}
