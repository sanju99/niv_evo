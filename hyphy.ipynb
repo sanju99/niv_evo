{
 "cells": [
  {
   "cell_type": "code",
   "execution_count": 1,
   "id": "9a2b6737-7271-44eb-a849-2020f18876cd",
   "metadata": {},
   "outputs": [],
   "source": [
    "import numpy as np\n",
    "import pandas as pd\n",
    "from Bio import AlignIO"
   ]
  },
  {
   "cell_type": "markdown",
   "id": "133d0b02-31c6-4dc4-8fc5-b7afdce72d3d",
   "metadata": {},
   "source": [
    "# HyPhy\n",
    "\n",
    "## Data input format (easiest of the options):\n",
    "\n",
    "Two separate files with the alignment and phylogeny each. \n",
    "\n",
    "Most standard alignment formats are accepted (FASTA, phylip, etc.), and the phylogeny should be Newick-formatted.\n",
    "\n",
    "# Methods\n",
    "\n",
    "## BUSTED\n",
    "\n",
    "BUSTED (Branch-Site Unrestricted Statistical Test for Episodic Diversification) provides a gene-wide (not site-specific) test for positive selection by asking whether a gene has experienced positive selection at at least one site on at least one branch.\n",
    "\n",
    "<ul>\n",
    "    <li>Can specify which branches to test or do all of them.</li>\n",
    "</ul>"
   ]
  },
  {
   "cell_type": "code",
   "execution_count": null,
   "id": "eb1e446e-c8a0-4824-ada4-3cbe921f2d26",
   "metadata": {},
   "outputs": [],
   "source": []
  }
 ],
 "metadata": {
  "kernelspec": {
   "display_name": "Python 3 (ipykernel)",
   "language": "python",
   "name": "python3"
  },
  "language_info": {
   "codemirror_mode": {
    "name": "ipython",
    "version": 3
   },
   "file_extension": ".py",
   "mimetype": "text/x-python",
   "name": "python",
   "nbconvert_exporter": "python",
   "pygments_lexer": "ipython3",
   "version": "3.8.12"
  }
 },
 "nbformat": 4,
 "nbformat_minor": 5
}
