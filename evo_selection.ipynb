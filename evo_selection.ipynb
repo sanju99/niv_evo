{
 "cells": [
  {
   "cell_type": "code",
   "execution_count": 1,
   "id": "9a2b6737-7271-44eb-a849-2020f18876cd",
   "metadata": {},
   "outputs": [],
   "source": [
    "import numpy as np\n",
    "import pandas as pd\n",
    "\n",
    "import Bio\n",
    "from Bio import SeqIO\n",
    "from Bio import Entrez\n",
    "from Bio.SeqRecord import SeqRecord\n",
    "from Bio.Seq import Seq\n",
    "import os\n",
    "import re"
   ]
  },
  {
   "cell_type": "markdown",
   "id": "133d0b02-31c6-4dc4-8fc5-b7afdce72d3d",
   "metadata": {},
   "source": [
    "# PAML\n",
    "\n",
    "Copied all `.ctl` files from the tar file for Linux/Mac <a href=\"http://abacus.gene.ucl.ac.uk/software/#downloads-and-installation-2\" target=\"_blank\">here</a>.\n",
    "\n",
    "# HyPhy\n",
    "\n",
    "## Data input format (easiest of the options):\n",
    "\n",
    "Two separate files with the alignment and phylogeny each. \n",
    "\n",
    "Most standard alignment formats are accepted (FASTA, phylip, etc.), and the phylogeny should be Newick-formatted.\n",
    "\n",
    "Launch with `hyphy -i`\n",
    "\n",
    "Tutorial: http://hyphy.org/tutorials/CL-prompt-tutorial/\n",
    "\n",
    "# Methods\n",
    "\n",
    "Good explanations: https://stevenweaver.github.io/hyphy-site/methods/selection-methods\n",
    "\n",
    "## BUSTED\n",
    "\n",
    "BUSTED (Branch-Site Unrestricted Statistical Test for Episodic Diversification) provides a gene-wide (not site-specific) test for positive selection by asking whether a gene has experienced positive selection at at least one site on at least one branch.\n",
    "\n",
    "<ul>\n",
    "    <li>Can specify which branches to test or do all of them.</li>\n",
    "    <li> It is gene-wide, not site-specific, so probably not desired for our purposes?</li>\n",
    "</ul>\n",
    "\n",
    "\n",
    "## FEL and SLAC\n",
    "\n",
    "Infer dN and dS substitutions rates on a per-site basis. Assume that selection pressure for each site is constant along the entire phylogeny. This is probably not true in this case because the Nipah virus sequences come from different organisms with different immune behavior. <b>How do we account for this without a temporal analysis?</b>\n",
    "\n",
    "SLAC uses maximum-likelihood and counting approaches. FEL is a fixed effects model.  "
   ]
  },
  {
   "cell_type": "markdown",
   "id": "239dcecf-8888-4602-be6b-502d8856af16",
   "metadata": {},
   "source": [
    "# Fasta files can not have stop codons in them, so generate new files for them"
   ]
  },
  {
   "cell_type": "code",
   "execution_count": 2,
   "id": "21fc9d21-3dbb-4fce-ba20-a841c12331af",
   "metadata": {},
   "outputs": [
    {
     "data": {
      "text/plain": [
       "(50, 50)"
      ]
     },
     "execution_count": 2,
     "metadata": {},
     "output_type": "execute_result"
    }
   ],
   "source": [
    "G_seq = [(seq_record.id, seq_record.seq) for seq_record in SeqIO.parse(\"hyphy/G_no_stop_codons.fasta\", \"fasta\")]\n",
    "P_seq = [(seq_record.id, seq_record.seq) for seq_record in SeqIO.parse(\"hyphy/P_no_stop_codons.fasta\", \"fasta\")]\n",
    "len(G_seq), len(P_seq)"
   ]
  },
  {
   "cell_type": "code",
   "execution_count": 3,
   "id": "79e090c8-673e-4d54-bee2-ce8a4dda445c",
   "metadata": {},
   "outputs": [
    {
     "data": {
      "text/plain": [
       "1"
      ]
     },
     "execution_count": 3,
     "metadata": {},
     "output_type": "execute_result"
    }
   ],
   "source": [
    "P_nonsense = [(seq_record.id, seq_record.seq) for seq_record in SeqIO.parse(\"hyphy/P_nonsense.fasta\", \"fasta\")]\n",
    "len(P_nonsense)"
   ]
  },
  {
   "cell_type": "markdown",
   "id": "9c3f0a67-02e9-45e4-b6ac-57ef79515c73",
   "metadata": {},
   "source": [
    "## More metadata: clade (country), organism, date, etc. to use FEL-Contrast"
   ]
  },
  {
   "cell_type": "code",
   "execution_count": 4,
   "id": "1a348923-b147-4053-8699-a27fc01bb6a5",
   "metadata": {},
   "outputs": [],
   "source": [
    "# supplemental table from the Whitmer et al paper with metadata\n",
    "new_metadata = pd.read_excel(\"sequences/Supplemental_Table_1_V8.xlsx\", header=3).iloc[:, 1:]"
   ]
  },
  {
   "cell_type": "code",
   "execution_count": 5,
   "id": "42972556-155f-4595-acd0-6120d0d30443",
   "metadata": {},
   "outputs": [],
   "source": [
    "def get_ncbi_accessions(id_list):\n",
    "    \n",
    "    Entrez.email='skulkarni@g.harvard.edu'\n",
    "\n",
    "    # search Genbank, returns accession numbers\n",
    "    handle=Entrez.esearch(db='nucleotide', retmax=1000, term=\",\".join(id_list), idtype=\"acc\") \n",
    "    record = Entrez.read(handle)\n",
    "    \n",
    "    handle.close()\n",
    "    fetch = Entrez.efetch(db='nucleotide', id=\",\".join(record['IdList']), rettype='gb', retmode='text')\n",
    "    gb=fetch.read()\n",
    "    \n",
    "    # the first one is an empty string because it's what comes before the first locus\n",
    "    found_seq = list(gb.split(\"LOCUS\"))[1:]\n",
    "    print(f\"Found {len(found_seq)} out of {len(id_list)} NCBI accessions!\")\n",
    "    \n",
    "    # remove the sequences becuase they make the strings unnecessarily long\n",
    "    found_seq = [isolate.split(\"/gene\")[0] for isolate in found_seq]\n",
    "    \n",
    "    return found_seq"
   ]
  },
  {
   "cell_type": "code",
   "execution_count": 6,
   "id": "bb748a26-ed6e-4f5f-90c9-f6879be5570d",
   "metadata": {},
   "outputs": [],
   "source": [
    "# (AF212302, Malaysia, 1999, human)\n",
    "# (AJ564621, Malaysia, 2004, pig)\n",
    "# (AJ564621, Malaysia, 2004, pig)\n",
    "# (AY858111, Cambodia, 2004, bat)"
   ]
  },
  {
   "cell_type": "code",
   "execution_count": 7,
   "id": "dada06b6-e1d8-41b0-97ce-20392cc206c9",
   "metadata": {
    "tags": []
   },
   "outputs": [],
   "source": [
    "countries_dict = dict(zip(['India', 'Kerala', 'Malaysia', 'Perak', 'Bangladesh', 'Singapore', 'Thailand', 'Cambodia', 'Kuala Lumpur'], \n",
    "                          ['India', 'India', 'Malaysia', 'Malaysia', 'Bangladesh', 'Singapore', 'Thailand', 'Cambodia', 'Malaysia']))\n",
    "\n",
    "def extract_metadata(fasta_file, metadata_df):\n",
    "    \n",
    "    acc_ids = [seq_record.id for seq_record in SeqIO.parse(fasta_file, \"fasta\")]\n",
    "    \n",
    "    ncbi_info = get_ncbi_accessions(acc_ids)\n",
    "    \n",
    "    metadata = metadata_df.loc[metadata_df[\" Accession Number:\"].isin(acc_ids)][[\" Accession Number:\", 'Clade', 'Collection Date', 'Location, Country', \"Original organism\"]]\n",
    "    metadata.rename(columns={metadata.columns[0]: \"ID\", 'Collection Date': 'Date', 'Location, Country': 'Country', \"Original organism\": \"Host\"}, inplace=True)\n",
    "    \n",
    "    # merge with the accession IDs to get a full metadata datafraem\n",
    "    metadata = metadata.merge(pd.DataFrame(acc_ids).rename(columns={0:\"ID\"}), \n",
    "                              how=\"outer\").sort_values(\"ID\").reset_index(drop=True)\n",
    "        \n",
    "    for i, row in metadata.iterrows():\n",
    "\n",
    "        # clean so that every word is separated by a single whitespace, make lowercase, then split to get a list\n",
    "        cleaned_info = re.sub('\\s+',' ', ncbi_info[i]).lower().split(\" \")\n",
    "\n",
    "        if pd.isnull(row[\"Country\"]):\n",
    "\n",
    "            # get the country by iterating through the list of countries\n",
    "            for country in list(countries_dict.keys()):\n",
    "                if country in ncbi_info[i]:\n",
    "                    metadata.loc[i, \"Country\"] = country\n",
    "                    break\n",
    "\n",
    "        if pd.isnull(row[\"Date\"]):\n",
    "            \n",
    "            found_date = False\n",
    "\n",
    "            for string in cleaned_info:\n",
    "                if \"/collection_date=\" in string:\n",
    "                    metadata.loc[i, \"Date\"] = string.replace(\"/collection_date=\", \"\").strip('\"\"')\n",
    "                    found_date = True\n",
    "                    break\n",
    "                if not found_date:            \n",
    "                    # get the date by looking for the journal submission date\n",
    "                    submitted_index = cleaned_info.index(\"submitted\")\n",
    "                    metadata.loc[i, \"Date\"] = cleaned_info[submitted_index+1].strip(\"()\")\n",
    "\n",
    "        if pd.isnull(row[\"Host\"]):\n",
    "\n",
    "            if \"pteropus\" in ncbi_info[i].lower():\n",
    "                metadata.loc[i, \"Host\"] = \"bat\"\n",
    "            elif \"pig\" in ncbi_info[i].lower() or \"swine\" in ncbi_info[i].lower():\n",
    "                metadata.loc[i, \"Host\"] = \"swine\"\n",
    "            elif \"clinical\" in ncbi_info[i].lower() or \"homo sapiens\" in ncbi_info[i].lower():\n",
    "                metadata.loc[i, \"Host\"] = \"human\"\n",
    "\n",
    "    # this whole genome is weird. Reference: https://www.sciencedirect.com/science/article/pii/S0042682201910268\n",
    "    # 1999, so Malaysia, and text says it was isolated from human brain tissue.\n",
    "    metadata.loc[metadata.ID == \"AF212302\", \"Country\"] = \"Malaysia\"\n",
    "    metadata.loc[metadata.ID == \"AF212302\", \"Host\"] = \"human\"\n",
    "    \n",
    "    # for completeness and standardization, convert them all to strings\n",
    "    metadata[['Date', 'Country', \"Host\"]] = metadata[['Date', 'Country', \"Host\"]].astype(str)\n",
    "    \n",
    "    # then convert the date column to a datetime object\n",
    "    metadata[\"Date\"] = pd.to_datetime(metadata[\"Date\"])\n",
    "    \n",
    "    # check that there are no more NaNs in the columns we just imputed\n",
    "    assert sum(pd.isnull(metadata['Date'])) == 0\n",
    "    assert sum(pd.isnull(metadata['Country'])) == 0\n",
    "    assert sum(pd.isnull(metadata['Host'])) == 0\n",
    "    \n",
    "    return metadata"
   ]
  },
  {
   "cell_type": "code",
   "execution_count": 8,
   "id": "580dd4c2-c2d5-4ef3-8db9-b8bc6adb1af6",
   "metadata": {},
   "outputs": [
    {
     "name": "stdout",
     "output_type": "stream",
     "text": [
      "Found 84 out of 84 NCBI accessions!\n",
      "Found 81 out of 81 NCBI accessions!\n"
     ]
    }
   ],
   "source": [
    "G_metadata = extract_metadata(\"sequences/PG/G_seqs.fasta\", new_metadata)\n",
    "P_metadata = extract_metadata(\"sequences/PG/P_seqs.fasta\", new_metadata)"
   ]
  },
  {
   "cell_type": "markdown",
   "id": "08c00b13-5228-48e3-b2d5-51cee7dd10ef",
   "metadata": {},
   "source": [
    "# Look at sites under positive selection in the phosphoprotein: 285, 380, 421"
   ]
  },
  {
   "cell_type": "code",
   "execution_count": 9,
   "id": "e5c8ba5e-0ed4-4c6d-88e5-9ff5e61c0d91",
   "metadata": {},
   "outputs": [],
   "source": [
    "def get_sites(lst_sites, fasta_file):\n",
    "    '''\n",
    "    Site list is 1-indexed, so decrement by 1 in Python searching. Sites are amino acid positions!\n",
    "    '''\n",
    "    seqs = [(seq_record.id, seq_record.seq) for seq_record in SeqIO.parse(fasta_file, \"fasta\")]\n",
    "    \n",
    "    # translate to amino acid sequence\n",
    "    aa = [Seq.translate(seq[1]) for seq in seqs]\n",
    "    \n",
    "    # initialize dataframe to store the results with the sequence IDs\n",
    "    df_res = pd.DataFrame({\"ID\": list(zip(*seqs))[0]})\n",
    "    \n",
    "    for site in lst_sites:\n",
    "        df_res[str(site)] = [seq[site-1] for seq in aa]\n",
    "        \n",
    "    return df_res"
   ]
  },
  {
   "cell_type": "code",
   "execution_count": 10,
   "id": "06ce42a1-28b3-4152-8480-1b2ca6100a80",
   "metadata": {},
   "outputs": [
    {
     "data": {
      "text/plain": [
       "81"
      ]
     },
     "execution_count": 10,
     "metadata": {},
     "output_type": "execute_result"
    }
   ],
   "source": [
    "df_P = get_sites([285, 380, 421], \"sequences/PG/P_seqs.fasta\")\n",
    "len(df_P)"
   ]
  },
  {
   "cell_type": "code",
   "execution_count": 11,
   "id": "d807b3b6-de54-43b6-a818-2a1d289387f9",
   "metadata": {},
   "outputs": [
    {
     "data": {
      "text/html": [
       "<div>\n",
       "<style scoped>\n",
       "    .dataframe tbody tr th:only-of-type {\n",
       "        vertical-align: middle;\n",
       "    }\n",
       "\n",
       "    .dataframe tbody tr th {\n",
       "        vertical-align: top;\n",
       "    }\n",
       "\n",
       "    .dataframe thead th {\n",
       "        text-align: right;\n",
       "    }\n",
       "</style>\n",
       "<table border=\"1\" class=\"dataframe\">\n",
       "  <thead>\n",
       "    <tr style=\"text-align: right;\">\n",
       "      <th></th>\n",
       "      <th>ID</th>\n",
       "      <th>Clade</th>\n",
       "      <th>Date</th>\n",
       "      <th>Country</th>\n",
       "      <th>Host</th>\n",
       "    </tr>\n",
       "  </thead>\n",
       "  <tbody>\n",
       "    <tr>\n",
       "      <th>0</th>\n",
       "      <td>AF212302</td>\n",
       "      <td>NaN</td>\n",
       "      <td>1999-12-08</td>\n",
       "      <td>Malaysia</td>\n",
       "      <td>human</td>\n",
       "    </tr>\n",
       "    <tr>\n",
       "      <th>1</th>\n",
       "      <td>AF376747</td>\n",
       "      <td>NaN</td>\n",
       "      <td>2001-05-04</td>\n",
       "      <td>Malaysia</td>\n",
       "      <td>bat</td>\n",
       "    </tr>\n",
       "    <tr>\n",
       "      <th>2</th>\n",
       "      <td>AJ564621</td>\n",
       "      <td>NaN</td>\n",
       "      <td>2003-05-30</td>\n",
       "      <td>Kuala Lumpur</td>\n",
       "      <td>swine</td>\n",
       "    </tr>\n",
       "    <tr>\n",
       "      <th>3</th>\n",
       "      <td>AJ564622</td>\n",
       "      <td>NaN</td>\n",
       "      <td>2003-05-30</td>\n",
       "      <td>Kuala Lumpur</td>\n",
       "      <td>swine</td>\n",
       "    </tr>\n",
       "    <tr>\n",
       "      <th>4</th>\n",
       "      <td>AJ564623</td>\n",
       "      <td>NaN</td>\n",
       "      <td>2003-05-30</td>\n",
       "      <td>Kuala Lumpur</td>\n",
       "      <td>swine</td>\n",
       "    </tr>\n",
       "  </tbody>\n",
       "</table>\n",
       "</div>"
      ],
      "text/plain": [
       "         ID Clade       Date       Country   Host\n",
       "0  AF212302   NaN 1999-12-08      Malaysia  human\n",
       "1  AF376747   NaN 2001-05-04      Malaysia    bat\n",
       "2  AJ564621   NaN 2003-05-30  Kuala Lumpur  swine\n",
       "3  AJ564622   NaN 2003-05-30  Kuala Lumpur  swine\n",
       "4  AJ564623   NaN 2003-05-30  Kuala Lumpur  swine"
      ]
     },
     "execution_count": 11,
     "metadata": {},
     "output_type": "execute_result"
    }
   ],
   "source": [
    "P_metadata.head()"
   ]
  },
  {
   "cell_type": "code",
   "execution_count": 13,
   "id": "8ef939e4-7c39-4004-9032-540247ef1648",
   "metadata": {},
   "outputs": [
    {
     "data": {
      "text/plain": [
       "(81, 8)"
      ]
     },
     "execution_count": 13,
     "metadata": {},
     "output_type": "execute_result"
    }
   ],
   "source": [
    "P_summary = df_P.merge(P_metadata, on=\"ID\", how=\"inner\")\n",
    "P_summary.shape"
   ]
  },
  {
   "cell_type": "code",
   "execution_count": 15,
   "id": "2081bbf5-fb82-4855-9e40-2eaf1497f24b",
   "metadata": {},
   "outputs": [
    {
     "data": {
      "text/html": [
       "<div>\n",
       "<style scoped>\n",
       "    .dataframe tbody tr th:only-of-type {\n",
       "        vertical-align: middle;\n",
       "    }\n",
       "\n",
       "    .dataframe tbody tr th {\n",
       "        vertical-align: top;\n",
       "    }\n",
       "\n",
       "    .dataframe thead th {\n",
       "        text-align: right;\n",
       "    }\n",
       "</style>\n",
       "<table border=\"1\" class=\"dataframe\">\n",
       "  <thead>\n",
       "    <tr style=\"text-align: right;\">\n",
       "      <th></th>\n",
       "      <th>ID</th>\n",
       "      <th>285</th>\n",
       "      <th>380</th>\n",
       "      <th>421</th>\n",
       "      <th>Clade</th>\n",
       "      <th>Date</th>\n",
       "      <th>Country</th>\n",
       "      <th>Host</th>\n",
       "    </tr>\n",
       "  </thead>\n",
       "  <tbody>\n",
       "    <tr>\n",
       "      <th>0</th>\n",
       "      <td>AF212302</td>\n",
       "      <td>R</td>\n",
       "      <td>V</td>\n",
       "      <td>P</td>\n",
       "      <td>NaN</td>\n",
       "      <td>1999-12-08</td>\n",
       "      <td>Malaysia</td>\n",
       "      <td>human</td>\n",
       "    </tr>\n",
       "    <tr>\n",
       "      <th>1</th>\n",
       "      <td>AF376747</td>\n",
       "      <td>R</td>\n",
       "      <td>V</td>\n",
       "      <td>P</td>\n",
       "      <td>NaN</td>\n",
       "      <td>2001-05-04</td>\n",
       "      <td>Malaysia</td>\n",
       "      <td>bat</td>\n",
       "    </tr>\n",
       "    <tr>\n",
       "      <th>2</th>\n",
       "      <td>AJ564621</td>\n",
       "      <td>R</td>\n",
       "      <td>V</td>\n",
       "      <td>P</td>\n",
       "      <td>NaN</td>\n",
       "      <td>2003-05-30</td>\n",
       "      <td>Kuala Lumpur</td>\n",
       "      <td>swine</td>\n",
       "    </tr>\n",
       "    <tr>\n",
       "      <th>3</th>\n",
       "      <td>AJ564622</td>\n",
       "      <td>R</td>\n",
       "      <td>V</td>\n",
       "      <td>P</td>\n",
       "      <td>NaN</td>\n",
       "      <td>2003-05-30</td>\n",
       "      <td>Kuala Lumpur</td>\n",
       "      <td>swine</td>\n",
       "    </tr>\n",
       "    <tr>\n",
       "      <th>4</th>\n",
       "      <td>AJ564623</td>\n",
       "      <td>R</td>\n",
       "      <td>V</td>\n",
       "      <td>P</td>\n",
       "      <td>NaN</td>\n",
       "      <td>2003-05-30</td>\n",
       "      <td>Kuala Lumpur</td>\n",
       "      <td>swine</td>\n",
       "    </tr>\n",
       "    <tr>\n",
       "      <th>...</th>\n",
       "      <td>...</td>\n",
       "      <td>...</td>\n",
       "      <td>...</td>\n",
       "      <td>...</td>\n",
       "      <td>...</td>\n",
       "      <td>...</td>\n",
       "      <td>...</td>\n",
       "      <td>...</td>\n",
       "    </tr>\n",
       "    <tr>\n",
       "      <th>76</th>\n",
       "      <td>MN549409</td>\n",
       "      <td>H</td>\n",
       "      <td>T</td>\n",
       "      <td>P</td>\n",
       "      <td>NaN</td>\n",
       "      <td>2019-06-10</td>\n",
       "      <td>India</td>\n",
       "      <td>bat</td>\n",
       "    </tr>\n",
       "    <tr>\n",
       "      <th>77</th>\n",
       "      <td>MN549410</td>\n",
       "      <td>H</td>\n",
       "      <td>T</td>\n",
       "      <td>P</td>\n",
       "      <td>NaN</td>\n",
       "      <td>2019-06-10</td>\n",
       "      <td>India</td>\n",
       "      <td>bat</td>\n",
       "    </tr>\n",
       "    <tr>\n",
       "      <th>78</th>\n",
       "      <td>MN549411</td>\n",
       "      <td>H</td>\n",
       "      <td>T</td>\n",
       "      <td>P</td>\n",
       "      <td>NaN</td>\n",
       "      <td>2019-06-10</td>\n",
       "      <td>India</td>\n",
       "      <td>bat</td>\n",
       "    </tr>\n",
       "    <tr>\n",
       "      <th>79</th>\n",
       "      <td>MW535746</td>\n",
       "      <td>R</td>\n",
       "      <td>T</td>\n",
       "      <td>P</td>\n",
       "      <td>NaN</td>\n",
       "      <td>2017-05-21</td>\n",
       "      <td>Thailand</td>\n",
       "      <td>bat</td>\n",
       "    </tr>\n",
       "    <tr>\n",
       "      <th>80</th>\n",
       "      <td>NC_002728</td>\n",
       "      <td>R</td>\n",
       "      <td>V</td>\n",
       "      <td>P</td>\n",
       "      <td>NaN</td>\n",
       "      <td>2004-09-03</td>\n",
       "      <td>nan</td>\n",
       "      <td>nan</td>\n",
       "    </tr>\n",
       "  </tbody>\n",
       "</table>\n",
       "<p>81 rows × 8 columns</p>\n",
       "</div>"
      ],
      "text/plain": [
       "           ID 285 380 421 Clade       Date       Country   Host\n",
       "0    AF212302   R   V   P   NaN 1999-12-08      Malaysia  human\n",
       "1    AF376747   R   V   P   NaN 2001-05-04      Malaysia    bat\n",
       "2    AJ564621   R   V   P   NaN 2003-05-30  Kuala Lumpur  swine\n",
       "3    AJ564622   R   V   P   NaN 2003-05-30  Kuala Lumpur  swine\n",
       "4    AJ564623   R   V   P   NaN 2003-05-30  Kuala Lumpur  swine\n",
       "..        ...  ..  ..  ..   ...        ...           ...    ...\n",
       "76   MN549409   H   T   P   NaN 2019-06-10         India    bat\n",
       "77   MN549410   H   T   P   NaN 2019-06-10         India    bat\n",
       "78   MN549411   H   T   P   NaN 2019-06-10         India    bat\n",
       "79   MW535746   R   T   P   NaN 2017-05-21      Thailand    bat\n",
       "80  NC_002728   R   V   P   NaN 2004-09-03           nan    nan\n",
       "\n",
       "[81 rows x 8 columns]"
      ]
     },
     "execution_count": 15,
     "metadata": {},
     "output_type": "execute_result"
    }
   ],
   "source": [
    "P_summary"
   ]
  },
  {
   "cell_type": "code",
   "execution_count": 21,
   "id": "6f618a7d-b2da-4e37-b4e8-223256a1ec4c",
   "metadata": {},
   "outputs": [
    {
     "name": "stdout",
     "output_type": "stream",
     "text": [
      "['R' 'H']\n",
      "['V' 'T' 'A']\n",
      "['P' 'L']\n"
     ]
    }
   ],
   "source": [
    "print(P_summary[\"285\"].unique())\n",
    "print(P_summary[\"380\"].unique())\n",
    "print(P_summary[\"421\"].unique())"
   ]
  },
  {
   "cell_type": "markdown",
   "id": "29e41065-4c5d-497a-8d6a-db9a38bcd026",
   "metadata": {},
   "source": [
    "# See if the alleles associate with clades, countries, organisms, etc."
   ]
  },
  {
   "cell_type": "code",
   "execution_count": null,
   "id": "b5b376d4-3bf1-49f4-83fe-f25cc9a63c3c",
   "metadata": {},
   "outputs": [],
   "source": []
  }
 ],
 "metadata": {
  "kernelspec": {
   "display_name": "Python 3 (ipykernel)",
   "language": "python",
   "name": "python3"
  },
  "language_info": {
   "codemirror_mode": {
    "name": "ipython",
    "version": 3
   },
   "file_extension": ".py",
   "mimetype": "text/x-python",
   "name": "python",
   "nbconvert_exporter": "python",
   "pygments_lexer": "ipython3",
   "version": "3.8.12"
  }
 },
 "nbformat": 4,
 "nbformat_minor": 5
}
