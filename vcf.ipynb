{
 "cells": [
  {
   "cell_type": "code",
   "execution_count": 1,
   "id": "b1da87d2-25a3-41ee-984b-e32be6043c1a",
   "metadata": {},
   "outputs": [],
   "source": [
    "import glob\n",
    "import os\n",
    "import numpy as np\n",
    "import pandas as pd\n",
    "import scipy.stats as st\n",
    "import vcf\n",
    "import vcf.filters\n",
    "import pickle\n",
    "import matplotlib.pyplot as plt\n",
    "import seaborn as sns\n",
    "import sys\n",
    "import gzip\n",
    "import shutil\n",
    "from Bio import SeqIO\n",
    "from Bio.Seq import Seq\n",
    "from Bio.SeqRecord import SeqRecord\n",
    "plt.rcParams['figure.dpi'] = 250"
   ]
  },
  {
   "cell_type": "markdown",
   "id": "82d8b21e-ff22-4eda-9975-dc54a96e90c9",
   "metadata": {},
   "source": [
    "# Extracting and analyzing data from the VCF files\n",
    "\n",
    "## Don't need to do any QC filtering because that's for reads from FASTQ files\n",
    "\n",
    "## These are all post-QC sequences in FASTA files"
   ]
  },
  {
   "cell_type": "code",
   "execution_count": 2,
   "id": "a02a2c13-5d8a-4615-82e2-9847c1f8cbd1",
   "metadata": {},
   "outputs": [
    {
     "data": {
      "text/plain": [
       "['alignments/G_BGD_SNPs.vcf',\n",
       " 'alignments/P_MYS_SNPs.vcf',\n",
       " 'alignments/G_MYS_SNPs.vcf',\n",
       " 'alignments/P_BGD_SNPs.vcf']"
      ]
     },
     "execution_count": 2,
     "metadata": {},
     "output_type": "execute_result"
    }
   ],
   "source": [
    "# get dataframe of differences between Bangladesh and Malaysian strains\n",
    "strain_diff = pd.read_csv(\"sequences/strain_differences.csv\")\n",
    "\n",
    "# get vcf files\n",
    "fNames = glob.glob(\"alignments/*.vcf\")\n",
    "fNames"
   ]
  },
  {
   "cell_type": "code",
   "execution_count": 3,
   "id": "0f7ed397-b340-4a8a-923c-1004df49954c",
   "metadata": {},
   "outputs": [],
   "source": [
    "def parse_vcf_snps(fName, strain_diff_df, strain_aln, other_strain):\n",
    "    \n",
    "    if \"G_\" in fName:\n",
    "        chrom = \"gene=G\"\n",
    "        protein = \"G\"\n",
    "    elif \"P_\" in fName:\n",
    "        chrom = \"gene=P\"\n",
    "        protein = \"P\"\n",
    "        \n",
    "    strain_diff_protein = strain_diff_df.query(\"Protein==@protein\").reset_index(drop=True)\n",
    "    \n",
    "    if strain_aln not in [\"BGD\", \"MYS\"]:\n",
    "        raise ValueError(f\"{strain_aln} is not a valid strain name!\")\n",
    "    if other_strain not in [\"BGD\", \"MYS\"]:\n",
    "        raise ValueError(f\"{other_strain} is not a valid strain name!\")\n",
    "    \n",
    "    pos = []\n",
    "    ref = []\n",
    "    alt = []\n",
    "    strain_diffs = []\n",
    "    \n",
    "    vcf_reader = vcf.Reader(open(fName, 'r'))\n",
    "\n",
    "    for record in vcf_reader:\n",
    "        \n",
    "        # check that all variants are coming from the correct gene. Might be overkill, but just another sanity check\n",
    "        if chrom not in record.CHROM:\n",
    "            raise ValueError(f\"SNP found outside of {chrom}\")\n",
    "            \n",
    "        # convert form VCF objects to strings to do string comparison\n",
    "        alt_alleles = [str(char) for char in record.ALT]\n",
    "\n",
    "        if \"<*>\" in alt_alleles:\n",
    "            alt_alleles.remove(\"<*>\")\n",
    "        alt_alleles = \"\".join(alt_alleles)\n",
    "            \n",
    "        pos.append(record.POS)\n",
    "        ref.append(record.REF)\n",
    "        alt.append(alt_alleles)\n",
    "        \n",
    "        if record.POS in strain_diff_protein.Position.values:\n",
    "            pos_of_interest = strain_diff_protein.loc[strain_diff_protein.Position==record.POS, :]\n",
    "        \n",
    "            if record.REF == pos_of_interest[strain_aln].values[0] and len(alt_alleles) == 1:\n",
    "                if alt_alleles == pos_of_interest[other_strain].values[0]:\n",
    "                    strain_diffs.append(1)\n",
    "                else:\n",
    "                    strain_diffs.append(0)\n",
    "            else:\n",
    "                strain_diffs.append(0)\n",
    "        else:\n",
    "            strain_diffs.append(0)\n",
    "        \n",
    "    return pd.DataFrame({\"pos\": pos, \"ref\": ref, \"alt\": alt, \"strain_diff\": strain_diffs, \"aln\": strain_aln})"
   ]
  },
  {
   "cell_type": "code",
   "execution_count": 4,
   "id": "5b65cdf0-2734-460b-86db-6bc50f132d8c",
   "metadata": {},
   "outputs": [],
   "source": [
    "def parse_vcf_and_metrics(fName, strain_diff_df, strain_aln, other_strain):\n",
    "    \n",
    "    res = parse_vcf_snps(fName, strain_diff_df, strain_aln, other_strain)\n",
    "    non_strain_diffs = len(res.query(\"strain_diff==0\"))/len(res)\n",
    "    \n",
    "    print(f\"{non_strain_diffs} of SNPs are not strain-level variations\")\n",
    "    \n",
    "    return res"
   ]
  },
  {
   "cell_type": "code",
   "execution_count": 5,
   "id": "147fb336-4c22-47eb-9407-b6da0f8a0e9c",
   "metadata": {},
   "outputs": [
    {
     "name": "stdout",
     "output_type": "stream",
     "text": [
      "0.8433734939759037 of SNPs are not strain-level variations\n",
      "0.5263157894736842 of SNPs are not strain-level variations\n",
      "0.8738738738738738 of SNPs are not strain-level variations\n",
      "0.7142857142857143 of SNPs are not strain-level variations\n"
     ]
    }
   ],
   "source": [
    "g_bgd = parse_vcf_and_metrics('alignments/G_BGD_SNPs.vcf', strain_diff, \"BGD\", \"MYS\")\n",
    "g_mys = parse_vcf_and_metrics('alignments/G_MYS_SNPs.vcf', strain_diff, \"MYS\", \"BGD\")\n",
    "\n",
    "p_bgd = parse_vcf_and_metrics('alignments/P_BGD_SNPs.vcf', strain_diff, \"BGD\", \"MYS\")\n",
    "p_mys = parse_vcf_and_metrics('alignments/P_MYS_SNPs.vcf', strain_diff, \"MYS\", \"BGD\")"
   ]
  },
  {
   "cell_type": "markdown",
   "id": "7fe2408e-9125-4559-be1d-cfd557e0d52d",
   "metadata": {},
   "source": [
    "### Not sure what the difference in proportion between BGD and MYS means. \n",
    "\n",
    "### It is already ignoring strain-level variations (comparing the 2 reference genomes)"
   ]
  },
  {
   "cell_type": "code",
   "execution_count": 6,
   "id": "8034bb5d-2246-4d27-a041-5eeaded4f4f3",
   "metadata": {},
   "outputs": [],
   "source": [
    "glyco_bgd_ref = [seq_record.seq for seq_record in SeqIO.parse(\"sequences/genome/AY988601.1_BGD_CDS.fna\", \"fasta\") if \"gene=G\" in seq_record.id][0]\n",
    "glyco_mys_ref = [seq_record.seq for seq_record in SeqIO.parse(\"sequences/genome/NC_00278.1_MYS_CDS.fna\", \"fasta\") if \"gene=G\" in seq_record.id][0]\n",
    "\n",
    "phospho_bgd_ref = [seq_record.seq for seq_record in SeqIO.parse(\"sequences/genome/AY988601.1_BGD_CDS.fna\", \"fasta\") if \"gene=P\" in seq_record.id][0]\n",
    "phospho_mys_ref = [seq_record.seq for seq_record in SeqIO.parse(\"sequences/genome/NC_00278.1_MYS_CDS.fna\", \"fasta\") if \"gene=P\" in seq_record.id][0]"
   ]
  },
  {
   "cell_type": "code",
   "execution_count": 7,
   "id": "27ffd37c-e1f5-4ff6-94ec-8b2955be8a17",
   "metadata": {},
   "outputs": [
    {
     "name": "stdout",
     "output_type": "stream",
     "text": [
      "1809 1809\n",
      "2130 2130\n"
     ]
    }
   ],
   "source": [
    "print(len(glyco_bgd_ref), len(glyco_mys_ref))\n",
    "print(len(phospho_bgd_ref), len(phospho_mys_ref))"
   ]
  },
  {
   "cell_type": "code",
   "execution_count": 8,
   "id": "280f54aa-2cef-4bee-847e-e1735084bbf8",
   "metadata": {},
   "outputs": [],
   "source": [
    "glyco_snps = pd.concat([g_bgd.query(\"strain_diff==0\"), g_mys.query(\"strain_diff==0\")]).reset_index(drop=True)\n",
    "phospho_snps = pd.concat([p_bgd.query(\"strain_diff==0\"), p_mys.query(\"strain_diff==0\")]).reset_index(drop=True)\n",
    "\n",
    "del glyco_snps[\"strain_diff\"]\n",
    "del phospho_snps[\"strain_diff\"]\n",
    "\n",
    "# lengths of all sequences, sanity check again\n",
    "assert glyco_snps.pos.max() <= 1809 and phospho_snps.pos.max() <= 2130"
   ]
  },
  {
   "cell_type": "code",
   "execution_count": 9,
   "id": "de6034dc-d107-40d8-ad2f-07e5597f9625",
   "metadata": {},
   "outputs": [],
   "source": [
    "def get_codon(pos, ref_seq, alt):\n",
    "    \n",
    "    # create the mutated sequence, strings and Seqs are immutable\n",
    "    alt_seq = list(ref_seq)\n",
    "    alt_seq[pos-1] = alt\n",
    "    alt_seq = Seq(\"\".join(alt_seq))\n",
    "    \n",
    "    # position is 1-indexed, make sure to use 0-indexing here\n",
    "    if pos % 3 == 0:\n",
    "        codon = ref_seq[pos-3:pos]\n",
    "        alt_codon = alt_seq[pos-3:pos]\n",
    "    elif pos % 3 == 1:\n",
    "        codon = ref_seq[pos-1:pos+2]\n",
    "        alt_codon = alt_seq[pos-1:pos+2]\n",
    "    else:\n",
    "        codon = ref_seq[pos-2:pos+1]\n",
    "        alt_codon = alt_seq[pos-2:pos+1]\n",
    "        \n",
    "    return codon.translate(), alt_codon.translate()"
   ]
  },
  {
   "cell_type": "code",
   "execution_count": 10,
   "id": "88643318-6dc0-4adf-b43d-c1bdea28f216",
   "metadata": {},
   "outputs": [],
   "source": [
    "for i, row in glyco_snps.iterrows():\n",
    "    \n",
    "    if row[\"aln\"] == \"BGD\":\n",
    "        ref_name = glyco_bgd_ref\n",
    "    else:\n",
    "        ref_name = glyco_mys_ref\n",
    "        \n",
    "    codon_change = get_codon(row[\"pos\"], ref_name, row[\"alt\"])\n",
    "    glyco_snps.loc[i, \"ref_aa\"] = str(codon_change[0])\n",
    "    glyco_snps.loc[i, \"alt_aa\"] = str(codon_change[1])\n",
    "    \n",
    "glyco_snps[\"synonymous\"] = (glyco_snps[\"ref_aa\"] == glyco_snps[\"alt_aa\"]).astype(int)\n",
    "#glyco_snps.to_csv(\"snp_calling/glyco.csv\", index=False)"
   ]
  },
  {
   "cell_type": "code",
   "execution_count": 11,
   "id": "5b956871-4c5a-4c89-aa11-c38feabc39de",
   "metadata": {},
   "outputs": [],
   "source": [
    "for i, row in phospho_snps.iterrows():\n",
    "    \n",
    "    if row[\"aln\"] == \"BGD\":\n",
    "        ref_name = phospho_bgd_ref\n",
    "    else:\n",
    "        ref_name = phospho_mys_ref\n",
    "        \n",
    "    codon_change = get_codon(row[\"pos\"], ref_name, row[\"alt\"])\n",
    "    phospho_snps.loc[i, \"ref_aa\"] = str(codon_change[0])\n",
    "    phospho_snps.loc[i, \"alt_aa\"] = str(codon_change[1])\n",
    "    \n",
    "phospho_snps[\"synonymous\"] = (phospho_snps[\"ref_aa\"] == phospho_snps[\"alt_aa\"]).astype(int)\n",
    "#phospho_snps.to_csv(\"snp_calling/phospho.csv\", index=False)"
   ]
  },
  {
   "cell_type": "code",
   "execution_count": null,
   "id": "2ec15d9e-8752-4abf-baa6-53b9136011be",
   "metadata": {},
   "outputs": [],
   "source": [
    "# vcf_reader = vcf.Reader(open(\"alignments/G_BGD_SNPs.vcf\", \"r\"))\n",
    "\n",
    "# for record in vcf_reader:\n",
    "    \n",
    "#     # convert form VCF objects to strings\n",
    "#     alt_alleles = [str(char) for char in record.ALT]\n",
    "    \n",
    "#     if \"<*>\" in alt_alleles:\n",
    "#         alt_alleles.remove(\"<*>\")\n",
    "#         print(alt_alleles)\n",
    "#     # else:\n",
    "#     #     print(alt_alleles)"
   ]
  },
  {
   "cell_type": "code",
   "execution_count": null,
   "id": "702dae4c-7906-4ddd-ba97-553805c9a4e0",
   "metadata": {},
   "outputs": [],
   "source": []
  }
 ],
 "metadata": {
  "kernelspec": {
   "display_name": "Python 3 (ipykernel)",
   "language": "python",
   "name": "python3"
  },
  "language_info": {
   "codemirror_mode": {
    "name": "ipython",
    "version": 3
   },
   "file_extension": ".py",
   "mimetype": "text/x-python",
   "name": "python",
   "nbconvert_exporter": "python",
   "pygments_lexer": "ipython3",
   "version": "3.9.7"
  }
 },
 "nbformat": 4,
 "nbformat_minor": 5
}
